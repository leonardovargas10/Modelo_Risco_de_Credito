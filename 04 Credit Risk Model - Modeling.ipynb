{
 "cells": [
  {
   "attachments": {},
   "cell_type": "markdown",
   "metadata": {},
   "source": [
    "<h1 style='color: blue; font-size: 34px; font-weight: bold;'> Análise de Risco de Crédito direcionada por Modelagem Matemática e Estatística\n",
    "</h1>\n",
    "<p style='font-size: 18px; line-height: 2; margin: 0px 0px; text-align: justify; text-indent: 0px;'>    \n",
    "<i> Este Notebook concentra código fonte da Tese de Bacharelado do curso de Engenharia de Controle e Automação da UNESP Sorocaba desenvolvido pelo aluno Leonardo Aderaldo Vargas.  </i> \n",
    "</p>  "
   ]
  },
  {
   "attachments": {},
   "cell_type": "markdown",
   "metadata": {},
   "source": [
    "# <font color='red' style='font-size: 40px;'> Problemática </font>\n",
    "<hr style='border: 2px solid red;'>\n",
    "\n",
    "Amostra baseada na base de dados do Lending Club Loan Data : https://www.kaggle.com/datasets/adarshsng/lending-club-loan-data-csv/data\n",
    "\n",
    "<p style='font-size: 18px; line-height: 2; margin: 0px 0px; text-align: justify; text-indent: 0px;'>    \n",
    "<i> Lending Club é uma empresa de empréstimos peer-to-peer com sede nos EUA. Eles combinam pessoas que desejam investir dinheiro com pessoas que desejam pedir dinheiro emprestado. Quando os investidores investem o seu dinheiro através do Lending Club, esse dinheiro é repassado aos mutuários e, quando os mutuários pagam os seus empréstimos, o capital mais os juros são repassados ​​aos investidores. É uma vitória para todos, pois podem obter taxas de empréstimo normalmente mais baixas e retornos mais elevados para os investidores.</i>\n",
    "</p>  \n",
    "\n",
    "<p style='font-size: 18px; line-height: 2; margin: 0px 0px; text-align: justify; text-indent: 0px;'>    \n",
    "<i>O conjunto de dados Lending Club contém dados completos de empréstimos para todos os empréstimos emitidos entre 2007-2015, incluindo a situação atual do empréstimo (atual, atrasado, totalmente pago, etc.) e as informações de pagamento mais recentes. Os recursos (também conhecidos como variáveis) incluem pontuação de crédito, número de consultas financeiras, endereço incluindo códigos postais e estado, e cobranças, entre outros. As cobranças indicam se o cliente perdeu um ou mais pagamentos e a equipe está tentando recuperar o dinheiro. O arquivo é uma amostra da base de dados exposta.</i>\n",
    "</p>  \n",
    "\n",
    "\n",
    "\n"
   ]
  },
  {
   "cell_type": "markdown",
   "metadata": {},
   "source": [
    "# <font color='red' style='font-size: 40px;'> Library   </font>\n",
    "<hr style='border: 2px solid red;'>"
   ]
  },
  {
   "cell_type": "code",
   "execution_count": 5,
   "metadata": {},
   "outputs": [],
   "source": [
    "# Importação das Bibliotecas e Parâmetros de Otimização\n",
    "from functions import *\n",
    "%matplotlib inline\n",
    "sns.set(style=\"whitegrid\", font_scale=1.2)\n",
    "plt.rcParams['font.family'] = 'Arial'\n",
    "plt.rcParams['font.size'] = '14'\n",
    "plt.rcParams['figure.figsize'] = [10, 5]\n",
    "pd.set_option('display.max_rows', 100)\n",
    "pd.set_option('display.max_columns', 100)\n",
    "#pd.set_option('display.max_colwidth', None)\n",
    "pd.set_option('display.expand_frame_repr', False)\n",
    "pd.set_option('display.float_format', lambda x: '%.2f' % x) # Tira os números do formato de Notação Científica\n",
    "np.set_printoptions(suppress=True) # Tira os números do formato de Notação Científica em Numpy Arrays\n",
    "warnings.filterwarnings('ignore')\n",
    "warnings.simplefilter(action='ignore', category=FutureWarning) # Retira Future Warnings\n",
    "\n",
    "# Spark Session\n",
    "from pyspark.sql import SparkSession, Row \n",
    "#from pyspark.sql.functions import * as F\n",
    "import pyspark.sql.functions as F\n",
    "spark = SparkSession.builder.getOrCreate()"
   ]
  },
  {
   "cell_type": "markdown",
   "metadata": {},
   "source": [
    "# <font color='red' style='font-size: 40px;'> 1. Pré-Processamento e Engenharia de Atributos </font>\n",
    "<hr style='border: 2px solid red;'>"
   ]
  },
  {
   "cell_type": "markdown",
   "metadata": {},
   "source": [
    "# <font color='green' style='font-size: 30px;'> 1.1) Descrição da Base de Dados </font>\n",
    "<hr style='border: 2px solid green;'>\n",
    "\n",
    "### Variável Target\n",
    "\n",
    " > 1. loan_status: Situação atual do empréstimo, sendo possível classificar o Cliente em Bom ou Ruim\n",
    "\n",
    "### Variáveis Referentes ao Produto\n",
    "\n",
    " > 1. term: O número de pagamentos do empréstimo, podendo serem 36 parcelas ou 60 (IMPORTANTE)\n",
    "\n",
    " > 2. grade: Grau de empréstimo atribuído (IMPORTANTE)\n",
    "\n",
    " > 3. sub_grade: Subclasse de empréstimo atribuído (IMPORTANTE)\n",
    "\n",
    " > 4. desc: Descrição do motivo do cliente para pegar o empréstimo\n",
    "\n",
    " > 5. purpose: Categoria (MCC/CNAE por exemplo) fornecida pelo cliente para pegar o empréstimo (IMPORTANTE)\n",
    "\n",
    " > 6. title: Título do empréstimo fornecida pelo cliente\n",
    "\n",
    " > 7. application_type: Indica se o empréstimo é um pedido individual ou um pedido conjunto de dois clientes (IMPORTANTE)\n",
    "\n",
    " > 8. loan_amnt: Valor do empréstimo solicitado pelo mutuário; Se em algum momento o departamento de crédito reduzir do empréstimo, isso será refletido nesse valor (IMPORTANTE)\n",
    "\n",
    " > 9. funded_amnt: Valor total comprometido com esse empréstimo naquele momento (IMPORTANTE)\n",
    "\n",
    " > 10. int_rate: Taxa de juros do empréstimo (IMPORTANTE)\n",
    "\n",
    " > 11. issue_d: Data em que o empréstimo foi financiado (IMPORTANTE)\n",
    "\n",
    " > 12. policy_code: Flag que indica Produto disponível publicamente ou não (IMPORTANTE)\n",
    "\n",
    " > 13. last_credit_pull_d: Mês mais recente que a LC retirou crédito para este empréstimo (IMPORTANTE)\n",
    "\n",
    " > 14. mths_since_last_delinq: Número de meses desde a última inadimplência do usuário (IMPORTANTE)\n",
    "\n",
    "\n",
    " ### Variáveis Referentes ao Cliente\n",
    "\n",
    " > 1. emp_title: O cargo fornecido pelo cliente ao solicitar o empréstimo (IMPORTANTE)\n",
    "\n",
    " > 2. emp_length: Duração do emprego que ele está em anos, sendo que 0 significa menos de 1 ano e 10 significa dez ou mais anos (IMPORTANTE)\n",
    "\n",
    " > 3. home_ownership: Flag que indica o Status da propriedade residencial do cliente ao solicitar o empréstimo, podenso ser aluguel, próprio, hipoteca, outros. (IMPORTANTE)\n",
    "\n",
    " > 4. verification_status: Flag que indica se a renda foi comprovada, não comprovada (IMPORTANTE)\n",
    "\n",
    " > 5. annual_inc: Renda anual declarada pelo cliente (IMPORTANTE)\n",
    "\n",
    " > 6. tot_cur_bal: Limite total considerando todos os produtos de crédito (IMPORTANTE)\n",
    "\n",
    " > 7. total_rev_hi_lim: Limite de rotativos total (IMPORTANTE)\n",
    " \n",
    " > 6. revol_bal: Limite de rotativos utilizado (IMPORTANTE)\n",
    "\n",
    " > 7. revol_util: Taxa de utilização de Limite de rotativos (IMPORTANTE)\n",
    "\n",
    " > 8. total_bal_il: Saldo atual total de todas as contas parceladas (IMPORTANTE)\n",
    "\n",
    " > 9. il_util: Proporção entre o saldo atual total e o limite de crédito/crédito alto em todas as contas de instalação (IMPORTANTE)\n",
    "\n",
    " > 10. open_rv_12m: Número de negociações rotativas abertas nos últimos 12 meses (IMPORTANTE)\n",
    "\n",
    " > 11. open_rv_24m: Número de negociações rotativas abertas nos últimos 24 meses (IMPORTANTE)\n",
    "\n",
    " > 12. open_acc: Número de produtos de crédito atualmente contratados no histórico do cliente (IMPORTANTE)\n",
    "\n",
    " > 13. open_acc_6m: Número de produtos de crédito atualmente contratados no histórico do cliente  (IMPORTANTE)\n",
    "\n",
    " > 14. total_acc: Número total de produtos de crédito contratados no histórico do cliente (IMPORTANTE)\n",
    "\n",
    " > 15. max_bal_bc: Saldo atual máximo devido em todas as contas (IMPORTANTE)\n",
    "\n",
    " > 16. all_util: Saldo até o limite de crédito em todas as negociações (IMPORTANTE)\n",
    "\n",
    " > 17. acc_now_delinq: Número de contas nas quais o mutuário está atualmente inadimplente (IMPORTANTE)\n",
    "\n",
    " > 18. open_il_6m: Número de contas parceladas abertas nos últimos 6 meses (IMPORTANTE)\n",
    "\n",
    " > 19. open_il_12m: Número de contas parceladas abertas nos últimos 12 meses (IMPORTANTE)\n",
    "\n",
    " > 20. open_il_24m: Número de contas parceladas abertas nos últimos 24 meses (IMPORTANTE)\n",
    "\n",
    " > 21. out_prncp: Capital restante em aberto para parte do valor total financiado pelos investidores\n",
    "\n",
    " > 22. out_prncp_inv: Capital restante em aberto para parte do valor total financiado pelos investidores\n",
    "\n",
    " > 23. inq_last_12m: Número de consultas de crédito nos últimos 12 meses (IMPORTANTE)\n",
    "\n",
    " > 24. zip_code: 3 primeiros números do CEP do cliente (IMPORTANTE)\n",
    "\n",
    " > 25. addr_state: Estado do Cliente (IMPORTANTE)\n",
    "\n",
    " > 26. earliest_cr_line: Data em que o primeiro produto de crédito foi contratado pelo cliente (IMPORTANTE)\n",
    "\n",
    " > 27. mths_since_last_record: Número de meses desde o último registro público (IMPORTANTE)\n",
    "\n",
    " > 28. mths_since_last_major_derog: Meses desde a classificação mais recente de 90 dias ou menos (IMPORTANTE)\n",
    "\n",
    " > 29. mths_since_rcnt_il: Meses desde a abertura das contas parceladas mais recentes (IMPORTANTE)\n",
    "\n",
    " ### Variáveis de Pagamento\n",
    "\n",
    " > 1. pymnt_plan: Flag que indica se um plano de pagamento foi implementado para o empréstimo (IMPORTANTE)\n",
    "\n",
    " > 2. last_pymnt_d: Data do último pagamento (IMPORTANTE)\n",
    "\n",
    " > 3. next_pymnt_d: Data do próximo pagamento (IMPORTANTE)\n",
    "\n",
    " > 4. total_pymnt: Pagamentos recebidos até o momento pelo valor total financiado (IMPORTANTE)\n",
    "\n",
    " > 5. total_pymnt_inv: Pagamentos recebidos até o momento referentes a parte do valor total financiado pelos investidores \n",
    "\n",
    " > 6. last_pymnt_amnt: Último valor do pagamento\n",
    "\n",
    " > 7. total_rec_prncp: Capital (valor originalmente emprestado) pago até o momento (IMPORTANTE)\n",
    "\n",
    " > 8. total_rec_int: Juros pago até o momento (IMPORTANTE)\n",
    "\n",
    " > 9. total_rec_late_fee: Taxas atrasadas até o momento (IMPORTANTE)\n",
    "\n",
    " > 10. recoveries: Pós cobrança da recuperação bruta (IMPORTANTE)\n",
    "\n",
    " > 11. collection_recovery_fee: Pós cobrança da taxa de cobrança (IMPORTANTE)\n",
    "\n",
    " > 12. tot_coll_amt: Valores totais de cobrança já devidos (IMPORTANTE)\n",
    "\n",
    " > 13. installment: Parcela mensal que o mutuário paga se o empréstimo for originado. Em termos simples, a originação de um empréstimo é o ponto de partida, onde o mutuário (a pessoa ou entidade que pede o empréstimo) solicita o empréstimo a um credor (a instituição financeira ou pessoa que empresta o dinheiro) e o credor avalia a solicitação, verifica a elegibilidade do mutuário e decide se concederá ou não o empréstimo. (IMPORTANTE)\n",
    "\n",
    " > 14. dti: Uma razão calculada utilizando o total dos pagamentos mensais da dívida do mutuário sobre o total das obrigações da dívida, excluindo a hipoteca e o empréstimo em ML solicitado, dividido pelo rendimento mensal autodeclarado pelo mutuário. (IMPORTANTE)\n"
   ]
  },
  {
   "cell_type": "code",
   "execution_count": 6,
   "metadata": {},
   "outputs": [],
   "source": [
    "df = pd.read_parquet('data/credit_risk_loan_data.parquet').drop(['id', 'url'], axis = 1)"
   ]
  },
  {
   "cell_type": "markdown",
   "metadata": {},
   "source": [
    "# <font color='green' style='font-size: 30px;'> 1.2) Definição da Target </font>\n",
    "<hr style='border: 2px solid green;'>\n",
    "\n",
    "> 1. A priori, deve-se definir de maneira clara as situações consideradas como Default. Definiu-se um cliente ruim como aquele o qual está em:\n",
    "\n",
    "- Processo de cobraça ('Charged Off')\n",
    "- Inadimplente ('Default')\n",
    "- Atrasado (31 dias ou mais)\n",
    "- Critérios Mínimos de Aprovação - CMA ('Does not meet the credit policy. Status:Charged Off')\n",
    "- Possui 1 ou mais contas em inadimplência\n",
    "\n",
    "> 2. A partir desta definição, deve-se criar a Target mostrando exatamente o que é um cliente Bom ou Ruim \n",
    "\n",
    "> 3. Escolheu-se o número \"0\" para representar o cliente Bom e o número \"1\" para representar o cliente Ruim, pois o evento de interesse é definir principalmente quem são os Maus Pagadores a fim de evitar ao máximo a inadimplêmcia\n",
    "\n",
    "> 4. Nota-se que em torno de 88.74% dos clientes são adimplentes, ao passo que 11.26% tornou-se inadimplente\n",
    "\n",
    "> 5. Esta situação caracteriza um problema de classes desbalanceadas, portanto, isso deve-se ser levado em consideração durante o processo de modelagem e aplicar técnicas para lidar com este tipo de caso"
   ]
  },
  {
   "cell_type": "code",
   "execution_count": 7,
   "metadata": {},
   "outputs": [
    {
     "data": {
      "image/png": "[encoded data removed]",
      "text/plain": [
       "<Figure size 1000x500 with 1 Axes>"
      ]
     },
     "metadata": {},
     "output_type": "display_data"
    }
   ],
   "source": [
    "df['loan_status'] = np.where(df['loan_status'].isin(['Charged Off', 'Default', 'Late (31-120 days)', 'Does not meet the credit policy. Status:Charged Off']) | df['acc_now_delinq'].fillna(0) != 0, 'BAD', 'GOOD') \n",
    "plota_barras(['loan_status'], False, df, 1, 1, 'Distribuição de Bons (0) e Maus Clientes (1)', 0)"
   ]
  },
  {
   "cell_type": "markdown",
   "metadata": {},
   "source": [
    "# <font color='green' style='font-size: 30px;'> 1.3) Separação em Treino e Teste </font>\n",
    "<hr style='border: 2px solid green;'>\n",
    "\n",
    "> 1. Antes de realizar qualquer análise ou modelagem, deve-se separar em Treino e Teste a fim de simular um ambiente real\n",
    "\n",
    "> 2. Ao separar antes de qualquer alteração, evita-se um erro muito grave denominado Data leakage\n",
    "\n",
    "> 3. As análises serão realizadas unicamente sobre a base de Treinamento, simulando um ambiente real no qual a priori a base de Teste seria inexistente "
   ]
  },
  {
   "cell_type": "code",
   "execution_count": 8,
   "metadata": {},
   "outputs": [
    {
     "name": "stdout",
     "output_type": "stream",
     "text": [
      "Quantidade de Dados Utilizados para Treinamento: 373028\n",
      "Quantidade de Dados Utilizados para Teste: 93257\n"
     ]
    }
   ],
   "source": [
    "df_train = separa_treino_teste('loan_status', df, 0.20)[0]\n",
    "df_test = separa_treino_teste('loan_status', df, 0.20)[1]\n",
    "\n",
    "print(f'Quantidade de Dados Utilizados para Treinamento: {df_train.shape[0]}')\n",
    "print(f'Quantidade de Dados Utilizados para Teste: {df_test.shape[0]}')"
   ]
  },
  {
   "cell_type": "markdown",
   "metadata": {},
   "source": [
    "# <font color='green' style='font-size: 30px;'> 1.4) Verificação de Variáveis Contínuas, Discretas e Categóricas </font>\n",
    "<hr style='border: 2px solid green;'>\n",
    "\n",
    "> 1. Para facilitar a Análise Exploratória, segmentou-se as variáveis em Qualitativas, Discretas e Contínuas.\n",
    "\n",
    "> 2. Definiu-se essas classificações a fim de aplicar técnicas estatatísticas corretas para analisá-las\n",
    "\n",
    "> 3. Essa abordagem é importante pois cada tipo de variável tem determinado jeito de ser analisada. "
   ]
  },
  {
   "cell_type": "code",
   "execution_count": 9,
   "metadata": {},
   "outputs": [
    {
     "data": {
      "image/png": "[encoded data removed]",
      "text/plain": [
       "<Figure size 1000x500 with 1 Axes>"
      ]
     },
     "metadata": {},
     "output_type": "display_data"
    }
   ],
   "source": [
    "variaveis = verifica_tipo_variavel(df)\n",
    "plota_barras(['tipo'], False, variaveis, 1, 1, 'Distribuição do Tipo de Variável presente no Dataset', 0)"
   ]
  },
  {
   "cell_type": "code",
   "execution_count": null,
   "metadata": {},
   "outputs": [],
   "source": []
  },
  {
   "cell_type": "code",
   "execution_count": null,
   "metadata": {},
   "outputs": [],
   "source": []
  },
  {
   "cell_type": "markdown",
   "metadata": {},
   "source": [
    "# <font color='red' style='font-size: 40px;'> 2. Modelagem Inicial  </font>\n",
    "<hr style='border: 2px solid red;'>"
   ]
  },
  {
   "cell_type": "code",
   "execution_count": null,
   "metadata": {},
   "outputs": [],
   "source": []
  },
  {
   "cell_type": "code",
   "execution_count": null,
   "metadata": {},
   "outputs": [],
   "source": []
  },
  {
   "attachments": {},
   "cell_type": "markdown",
   "metadata": {},
   "source": [
    "# <font color='red' style='font-size: 40px;'> 3. Otimização do Modelo Escolhido </font>\n",
    "<hr style='border: 2px solid red;'>"
   ]
  },
  {
   "cell_type": "code",
   "execution_count": null,
   "metadata": {},
   "outputs": [],
   "source": []
  },
  {
   "cell_type": "code",
   "execution_count": null,
   "metadata": {},
   "outputs": [],
   "source": []
  },
  {
   "cell_type": "markdown",
   "metadata": {},
   "source": [
    "# <font color='red' style='font-size: 40px;'> 4. Tradução e Quantificação dos Resultados</font>\n",
    "<hr style='border: 2px solid red;'>"
   ]
  },
  {
   "cell_type": "code",
   "execution_count": null,
   "metadata": {},
   "outputs": [],
   "source": []
  },
  {
   "cell_type": "code",
   "execution_count": null,
   "metadata": {},
   "outputs": [],
   "source": []
  }
 ],
 "metadata": {
  "kernelspec": {
   "display_name": "base",
   "language": "python",
   "name": "python3"
  },
  "language_info": {
   "codemirror_mode": {
    "name": "ipython",
    "version": 3
   },
   "file_extension": ".py",
   "mimetype": "text/x-python",
   "name": "python",
   "nbconvert_exporter": "python",
   "pygments_lexer": "ipython3",
   "version": "3.9.16"
  },
  "orig_nbformat": 4,
  "vscode": {
   "interpreter": {
    "hash": "5a9a036f549c34521959f2e35c11282d59c2fa6997060d671aa6f29f1c44b680"
   }
  }
 },
 "nbformat": 4,
 "nbformat_minor": 2
}
