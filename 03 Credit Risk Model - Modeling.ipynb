{
 "cells": [
  {
   "attachments": {},
   "cell_type": "markdown",
   "metadata": {},
   "source": [
    "<h1 style='color: blue; font-size: 34px; font-weight: bold;'> Análise de Risco de Crédito direcionada por Modelagem Matemática e Estatística\n",
    "</h1>\n",
    "<p style='font-size: 18px; line-height: 2; margin: 0px 0px; text-align: justify; text-indent: 0px;'>    \n",
    "<i> Este Notebook concentra código fonte da Tese de Bacharelado do curso de Engenharia de Controle e Automação da UNESP Sorocaba desenvolvido pelo aluno Leonardo Aderaldo Vargas.  </i> \n",
    "</p>  "
   ]
  },
  {
   "attachments": {},
   "cell_type": "markdown",
   "metadata": {},
   "source": [
    "# <font color='red' style='font-size: 40px;'> Problemática </font>\n",
    "<hr style='border: 2px solid red;'>\n",
    "\n",
    "Amostra baseada na base de dados do Lending Club Loan Data : https://www.kaggle.com/datasets/adarshsng/lending-club-loan-data-csv/data\n",
    "\n",
    "<p style='font-size: 18px; line-height: 2; margin: 0px 0px; text-align: justify; text-indent: 0px;'>    \n",
    "<i> Lending Club é uma empresa de empréstimos peer-to-peer com sede nos EUA. Eles combinam pessoas que desejam investir dinheiro com pessoas que desejam pedir dinheiro emprestado. Quando os investidores investem o seu dinheiro através do Lending Club, esse dinheiro é repassado aos mutuários e, quando os mutuários pagam os seus empréstimos, o capital mais os juros são repassados ​​aos investidores. É uma vitória para todos, pois podem obter taxas de empréstimo normalmente mais baixas e retornos mais elevados para os investidores.</i>\n",
    "</p>  \n",
    "\n",
    "<p style='font-size: 18px; line-height: 2; margin: 0px 0px; text-align: justify; text-indent: 0px;'>    \n",
    "<i>O conjunto de dados Lending Club contém dados completos de empréstimos para todos os empréstimos emitidos entre 2007-2015, incluindo a situação atual do empréstimo (atual, atrasado, totalmente pago, etc.) e as informações de pagamento mais recentes. Os recursos (também conhecidos como variáveis) incluem pontuação de crédito, número de consultas financeiras, endereço incluindo códigos postais e estado, e cobranças, entre outros. As cobranças indicam se o cliente perdeu um ou mais pagamentos e a equipe está tentando recuperar o dinheiro. O arquivo é uma amostra da base de dados exposta.</i>\n",
    "</p>  \n",
    "\n",
    "\n",
    "\n"
   ]
  },
  {
   "cell_type": "markdown",
   "metadata": {},
   "source": [
    "# <font color='red' style='font-size: 40px;'> Library   </font>\n",
    "<hr style='border: 2px solid red;'>"
   ]
  },
  {
   "cell_type": "code",
   "execution_count": 1,
   "metadata": {},
   "outputs": [],
   "source": [
    "# Importação das Bibliotecas e Parâmetros de Otimização\n",
    "from functions import *\n",
    "%matplotlib inline\n",
    "sns.set(style=\"whitegrid\", font_scale=1.2)\n",
    "plt.rcParams['font.family'] = 'Arial'\n",
    "plt.rcParams['font.size'] = '14'\n",
    "plt.rcParams['figure.figsize'] = [10, 5]\n",
    "pd.set_option('display.max_rows', 100)\n",
    "pd.set_option('display.max_columns', 100)\n",
    "pd.set_option('display.max_colwidth', None)\n",
    "pd.set_option('display.expand_frame_repr', False)\n",
    "pd.set_option('display.float_format', lambda x: '%.2f' % x) # Tira os números do formato de Notação Científica\n",
    "np.set_printoptions(suppress=True) # Tira os números do formato de Notação Científica em Numpy Arrays\n",
    "warnings.filterwarnings('ignore')\n",
    "warnings.simplefilter(action='ignore', category=FutureWarning) # Retira Future Warnings\n",
    "\n",
    "# Spark Session\n",
    "# from pyspark.sql import SparkSession, Row \n",
    "# #from pyspark.sql.functions import * as F\n",
    "# import pyspark.sql.functions as F\n",
    "# spark = SparkSession.builder.getOrCreate()"
   ]
  },
  {
   "cell_type": "markdown",
   "metadata": {},
   "source": [
    "# <font color='red' style='font-size: 40px;'> 1. Pré-Processamento </font>\n",
    "<hr style='border: 2px solid red;'>"
   ]
  },
  {
   "cell_type": "markdown",
   "metadata": {},
   "source": [
    "# <font color='green' style='font-size: 30px;'> 1.1) Descrição da Base de Dados </font>\n",
    "<hr style='border: 2px solid green;'>\n",
    "\n",
    "### Variável Target (VALIDADO)\n",
    "\n",
    "> 1. loan_status: Situação atual do empréstimo, sendo possível classificar o Cliente em Bom ou Ruim (IMPORTANTE)\n",
    "\n",
    "### Variável ID (VALIDADO)\n",
    "\n",
    "> 1. member_id: Id do solicitante (IMPORTANTE)\n",
    "\n",
    "\n",
    "### Variáveis Referentes ao Produto (VALIDADO)\n",
    "\n",
    "> 1. term: O número de pagamentos do empréstimo, podendo serem 36 parcelas ou 60 (IMPORTANTE)\n",
    "\n",
    "> 2. grade: Grau de empréstimo atribuído (IMPORTANTE)\n",
    "\n",
    "> 3. sub_grade: Subclasse de empréstimo atribuído (IMPORTANTE)\n",
    "\n",
    "> 4. purpose: Categoria (MCC/CNAE por exemplo) fornecida pelo cliente para pegar o empréstimo (IMPORTANTE)\n",
    "\n",
    "> 5. loan_amnt: Valor do empréstimo solicitado pelo mutuário; Se em algum momento o departamento de crédito reduzir do empréstimo, isso será refletido nesse valor (IMPORTANTE)\n",
    "\n",
    "> 6. int_rate: Taxa de juros do empréstimo (IMPORTANTE)\n",
    "\n",
    "> 7. issue_d: Data em que o empréstimo foi financiado (IMPORTANTE)\n",
    "\n",
    "> 8. policy_code: Flag que indica Produto disponível publicamente ou não (IMPORTANTE)\n",
    "\n",
    "> 9. pymnt_plan: Flag que indica se um plano de pagamento foi implementado para o empréstimo (IMPORTANTE)\n",
    "\n",
    "> 10. initial_list_status: Status de listagem inicial do empréstimo. Os valores possíveis são W-F (IMPORTANTE)\n",
    "\n",
    "> 11. installment: O pagamento mensal devido pelo mutuário se o empréstimo for originado. (Em termos simples, a originação de um empréstimo é o ponto de partida, onde o mutuário (a pessoa ou entidade que pede o empréstimo) solicita o empréstimo a um credor (a instituição financeira ou pessoa que empresta o dinheiro) e o credor avalia a solicitação, verifica a elegibilidade do mutuário e decide se concederá ou não o empréstimo.) (IMPORTANTE)\n",
    "\n",
    " ### Variáveis Referentes ao Cliente (VALIDADO)\n",
    "\n",
    " > 1. emp_title: O cargo fornecido pelo cliente ao solicitar o empréstimo (IMPORTANTE)\n",
    "\n",
    " > 2. emp_length: Duração do emprego que ele está em anos, sendo que 0 significa menos de 1 ano e 10 significa dez ou mais anos (IMPORTANTE)\n",
    "\n",
    " > 3. home_ownership: Flag que indica o Status da propriedade residencial do cliente ao solicitar o empréstimo, podenso ser aluguel, próprio, hipoteca, outros. (IMPORTANTE)\n",
    "\n",
    " > 4. verification_status: Flag que indica se a renda foi comprovada, não comprovada (IMPORTANTE)\n",
    "\n",
    " > 5. O número de incidências de inadimplência vencidas há mais de 30 dias no arquivo de crédito do mutuário nos últimos 2 anos (IMPORTANTE)\n",
    "\n",
    " > 6. annual_inc: Renda anual declarada pelo cliente (IMPORTANTE)\n",
    "\n",
    " > 7. addr_state: Estado do Cliente (IMPORTANTE)\n",
    "\n",
    " > 8. tot_cur_bal: Limite total considerando todos os produtos de crédito (IMPORTANTE)\n",
    "\n",
    " > 9. total_rev_hi_lim: Limite de rotativos total (IMPORTANTE)\n",
    " \n",
    " > 10. revol_bal: Limite de rotativos utilizado (IMPORTANTE)\n",
    "\n",
    " > 11. revol_util: Taxa de utilização de Limite de rotativos [revol_bal/total_rev_hi_lim] (IMPORTANTE)\n",
    "\n",
    " > 12. open_acc: Número de produtos de crédito atualmente contratados no histórico do cliente (IMPORTANTE)\n",
    "\n",
    " > 13. total_acc: Número total de produtos de crédito contratados no histórico do cliente (IMPORTANTE)\n",
    "\n",
    " > 14. pub_rec: Número de registros públicos depreciativos (IMPORTANTE)\n",
    " \n",
    " > 15. inq_last_6mths: Número de consultas nos últimos 6 meses (excluindo consultas sobre automóveis e hipotecas) (IMPORTANTE)\n",
    "\n",
    " > 16. earliest_cr_line: Data em que o primeiro produto de crédito foi contratado pelo cliente (IMPORTANTE)\n",
    "\n",
    " > 17. mths_since_last_record: Número de meses desde o último registro público (IMPORTANTE)\n",
    "\n",
    " > 18. mths_since_last_major_derog: Meses desde a classificação mais recente de 90 dias ou menos (IMPORTANTE)\n",
    "\n",
    " > 19. mths_since_last_delinq: O número de meses desde a última inadimplência do mutuário (IMPORTANTE)\n"
   ]
  },
  {
   "cell_type": "code",
   "execution_count": 2,
   "metadata": {},
   "outputs": [],
   "source": [
    "df = pd.read_parquet('data/credit_risk_loan_data.parquet').drop(['id', 'url'], axis = 1)"
   ]
  },
  {
   "cell_type": "markdown",
   "metadata": {},
   "source": [
    "# <font color='green' style='font-size: 30px;'> 1.2) Definição da Target </font>\n",
    "<hr style='border: 2px solid green;'>\n",
    "\n",
    "> 1. A priori, deve-se definir de maneira clara as situações consideradas como Default. Definiu-se um cliente ruim como aquele o qual está em:\n",
    "\n",
    "- Processo de cobraça ('Charged Off')\n",
    "- Inadimplente ('Default')\n",
    "- Atrasado (31 dias ou mais)\n",
    "- Critérios Mínimos de Aprovação - CMA ('Does not meet the credit policy. Status:Charged Off')\n",
    "- Possui 1 ou mais contas em inadimplência\n",
    "\n",
    "> 2. A partir desta definição, deve-se criar a Target mostrando exatamente o que é um cliente Bom ou Ruim \n",
    "\n",
    "> 3. Escolheu-se o número \"0\" para representar o cliente Bom e o número \"1\" para representar o cliente Ruim, pois o evento de interesse é definir principalmente quem são os Maus Pagadores a fim de evitar ao máximo a inadimplêmcia\n",
    "\n",
    "> 4. Nota-se que em torno de 88.74% dos clientes são adimplentes, ao passo que 11.26% tornou-se inadimplente\n",
    "\n",
    "> 5. Esta situação caracteriza um problema de classes desbalanceadas, portanto, isso deve-se ser levado em consideração durante o processo de modelagem e aplicar técnicas para lidar com este tipo de caso"
   ]
  },
  {
   "cell_type": "code",
   "execution_count": 3,
   "metadata": {},
   "outputs": [
    {
     "data": {
      "image/png": "[encoded data removed]",
      "text/plain": [
       "<Figure size 1000x500 with 1 Axes>"
      ]
     },
     "metadata": {},
     "output_type": "display_data"
    }
   ],
   "source": [
    "df['loan_status'] = np.where(df['loan_status'].isin(['Charged Off', 'Default', 'Late (31-120 days)', 'Does not meet the credit policy. Status:Charged Off']) | df['acc_now_delinq'].fillna(0) != 0, 'BAD', 'GOOD') \n",
    "plota_barras(['loan_status'], False, df, 1, 1, 'Distribuição de Bons (0) e Maus Clientes (1)', 0)\n",
    "df['loan_status'] = np.where(df['loan_status'] == 'BAD', 1, 0)"
   ]
  },
  {
   "cell_type": "markdown",
   "metadata": {},
   "source": [
    "# <font color='green' style='font-size: 30px;'> 1.3) Separação em Treino e Teste </font>\n",
    "<hr style='border: 2px solid green;'>\n",
    "\n",
    "> 1. Antes de realizar qualquer análise ou modelagem, deve-se separar em Treino e Teste a fim de simular um ambiente real\n",
    "\n",
    "> 2. Ao separar antes de qualquer alteração, evita-se um erro muito grave denominado Data leakage\n",
    "\n",
    "> 3. As análises serão realizadas unicamente sobre a base de Treinamento, simulando um ambiente real no qual a priori a base de Teste seria inexistente "
   ]
  },
  {
   "cell_type": "code",
   "execution_count": 4,
   "metadata": {},
   "outputs": [
    {
     "name": "stdout",
     "output_type": "stream",
     "text": [
      "Quantidade de Dados Utilizados para Treinamento: 373028\n",
      "Quantidade de Dados Utilizados para Teste: 93257\n"
     ]
    }
   ],
   "source": [
    "df_train = separa_treino_teste('loan_status', df, 0.20)[0]\n",
    "df_test = separa_treino_teste('loan_status', df, 0.20)[1]\n",
    "\n",
    "print(f'Quantidade de Dados Utilizados para Treinamento: {df_train.shape[0]}')\n",
    "print(f'Quantidade de Dados Utilizados para Teste: {df_test.shape[0]}')"
   ]
  },
  {
   "cell_type": "markdown",
   "metadata": {},
   "source": [
    "# <font color='green' style='font-size: 30px;'> 1.4) Variáveis de Entrada </font>\n",
    "<hr style='border: 2px solid green;'>\n",
    "\n",
    "> 1. Após a análise de variáveis de Produtos e Clientes, definiu-se quais serão utilizadas como entrada do modelo "
   ]
  },
  {
   "cell_type": "code",
   "execution_count": 5,
   "metadata": {},
   "outputs": [
    {
     "name": "stdout",
     "output_type": "stream",
     "text": [
      "Existem 33 variáveis excluindo as que são referentes a Pagamento ou variáveis totalmente irrelevantes no Dataset\n"
     ]
    }
   ],
   "source": [
    "columns_selected = ['loan_status','member_id','term','grade','sub_grade','purpose', 'delinq_2yrs', 'loan_amnt','int_rate','issue_d','policy_code','pymnt_plan','initial_list_status','installment','emp_title','emp_length','home_ownership',\n",
    "'verification_status','annual_inc','addr_state', 'zip_code','tot_cur_bal','total_rev_hi_lim','revol_bal','revol_util','open_acc','total_acc','pub_rec','inq_last_6mths','earliest_cr_line','mths_since_last_record',\n",
    "'mths_since_last_major_derog',\n",
    "'mths_since_last_delinq']\n",
    "\n",
    "df_train = df_train[columns_selected]\n",
    "df_test = df_test[columns_selected]\n",
    "print(f'Existem {len(columns_selected)} variáveis excluindo as que são referentes a Pagamento ou variáveis totalmente irrelevantes no Dataset')"
   ]
  },
  {
   "cell_type": "markdown",
   "metadata": {},
   "source": [
    "# <font color='red' style='font-size: 40px;'> 2. Engenharia de Atributos </font>\n",
    "<hr style='border: 2px solid red;'>"
   ]
  },
  {
   "cell_type": "markdown",
   "metadata": {},
   "source": [
    "# <font color='green' style='font-size: 30px;'> 2.1) Anos no emprego atual</font>\n",
    "<hr style='border: 2px solid green;'>"
   ]
  },
  {
   "cell_type": "code",
   "execution_count": 6,
   "metadata": {},
   "outputs": [],
   "source": [
    "def numero_de_anos_emprego_atual(df):\n",
    "    df['emp_length'] = (df['emp_length'].replace({'< 1 year':0, '1 year':1, '2 years':2, '3 years':3, '4 years':4, '5 years':5, '6 years':6, '7 years':7, '8 years':8, '9 years':9,'10+ years':10}).fillna(0))\n",
    "    df['emp_length'] = df['emp_length'].apply(lambda x:int(x))\n",
    "    df['emp_length'] = np.where(df['emp_length'] <= 3, '3_YEARS', \n",
    "                        np.where(df['emp_length'] <= 6, '6_YEARS',\n",
    "                        np.where(df['emp_length'] <= 9, '9_YEARS',\n",
    "                        '10_YEARS+')))\n",
    "    return df['emp_length']\n",
    "\n",
    "df_train['emp_length'] = numero_de_anos_emprego_atual(df_train)"
   ]
  },
  {
   "cell_type": "markdown",
   "metadata": {},
   "source": [
    "# <font color='green' style='font-size: 30px;'> 2.2) Número de Registros Negativos</font>\n",
    "<hr style='border: 2px solid green;'>"
   ]
  },
  {
   "cell_type": "code",
   "execution_count": 7,
   "metadata": {},
   "outputs": [],
   "source": [
    "def numero_de_registros_negativos(df):\n",
    "\n",
    "    df = df_train[['loan_status', 'pub_rec']].copy()\n",
    "    df[['pub_rec']] = np.where(df[['pub_rec']] == 0, 'sem_registros_negativos', 'com_registros_negativos')\n",
    "\n",
    "    return df['pub_rec']\n",
    "\n",
    "df_train['pub_rec'] = numero_de_registros_negativos(df_train)"
   ]
  },
  {
   "cell_type": "markdown",
   "metadata": {},
   "source": [
    "# <font color='green' style='font-size: 30px;'> 2.3) Consulta de Crédito nos Últimos 6 meses</font>\n",
    "<hr style='border: 2px solid green;'>"
   ]
  },
  {
   "cell_type": "code",
   "execution_count": 8,
   "metadata": {},
   "outputs": [],
   "source": [
    "def consulta_de_credito_nos_ultimos_6_meses(df):\n",
    "    df = df_train[['loan_status', 'inq_last_6mths']].copy()\n",
    "    df[['inq_last_6mths']] = np.where(df[['inq_last_6mths']] == 0, 'sem_consultas', 'com_consultas')\n",
    "\n",
    "    return df['inq_last_6mths']\n",
    "\n",
    "df_train['inq_last_6mths'] = consulta_de_credito_nos_ultimos_6_meses(df_train)"
   ]
  },
  {
   "cell_type": "markdown",
   "metadata": {},
   "source": [
    "# <font color='green' style='font-size: 30px;'> 2.4) Comprometimento de Renda</font>\n",
    "<hr style='border: 2px solid green;'>"
   ]
  },
  {
   "cell_type": "code",
   "execution_count": 9,
   "metadata": {},
   "outputs": [],
   "source": [
    "def compromento_de_renda(df): \n",
    "    df_aux = df_train[['annual_inc', 'installment', 'loan_amnt', 'term', 'int_rate', 'loan_status']].copy()\n",
    "    df_aux['term'] = np.where(df_aux['term'] == ' 36 months', 3, 5)\n",
    "    df_aux['loan_amnt_with_int_rate'] = calcula_juros_compostos(df_aux['loan_amnt'], df_aux['int_rate'], df_aux['term'])\n",
    "    df_aux['annual_payment'] = df_aux['loan_amnt_with_int_rate']/df_aux['term']\n",
    "    df_aux['annual_income_commitment_rate'] = ((df_aux['annual_payment']/df_aux['annual_inc'])*100).round(2)\n",
    "    \n",
    "    return df_aux['annual_income_commitment_rate']\n",
    "\n",
    "df_train['annual_income_commitment_rate'] = compromento_de_renda(df_train)"
   ]
  },
  {
   "cell_type": "markdown",
   "metadata": {},
   "source": [
    "# <font color='green' style='font-size: 30px;'> 2.5) Número de meses desde a contratação do produto de crédito atual</font>\n",
    "<hr style='border: 2px solid green;'>"
   ]
  },
  {
   "cell_type": "code",
   "execution_count": 10,
   "metadata": {},
   "outputs": [],
   "source": [
    "def n_meses_produto_credito_atual(df):\n",
    "    df = df.copy()\n",
    "    df['issue_d'] = pd.to_datetime(df['issue_d'], format = '%b-%y')\n",
    "    df['mths_since_issue_d'] = round(pd.to_numeric((pd.to_datetime('2023-09-20') - df['issue_d'])/np.timedelta64(1, 'M')))\n",
    "    df['mths_since_issue_d'] = df['mths_since_issue_d'].fillna(df['mths_since_issue_d'].median())\n",
    "    df['mths_since_issue_d'] = np.where(df['mths_since_issue_d'] < 0, df['mths_since_issue_d'].median(), df['mths_since_issue_d'])\n",
    "    df['mths_since_issue_d'] = df['mths_since_issue_d'].apply(lambda x:int(x))\n",
    "    df['issue_d'] = df['mths_since_issue_d']\n",
    "\n",
    "    return df['issue_d']\n",
    "\n",
    "df_train['issue_d'] = n_meses_produto_credito_atual(df_train)"
   ]
  },
  {
   "cell_type": "markdown",
   "metadata": {},
   "source": [
    "# <font color='green' style='font-size: 30px;'> 2.6) Número de meses desde a contratação do primeiro produto de crédito</font>\n",
    "<hr style='border: 2px solid green;'>"
   ]
  },
  {
   "cell_type": "code",
   "execution_count": 11,
   "metadata": {},
   "outputs": [],
   "source": [
    "def n_meses_primeiro_produto_credito(df):\n",
    "    df = df.copy()\n",
    "    df['earliest_cr_line'] = pd.to_datetime(df['earliest_cr_line'], format = '%b-%y')\n",
    "    df['mths_since_earliest_cr_line'] = round(pd.to_numeric((pd.to_datetime('2023-09-20') - df['earliest_cr_line'])/np.timedelta64(1, 'M')))\n",
    "    df['mths_since_earliest_cr_line'] = df['mths_since_earliest_cr_line'].fillna(df['mths_since_earliest_cr_line'].median())\n",
    "    df['mths_since_earliest_cr_line'] = np.where(df['mths_since_earliest_cr_line'] < 0, df['mths_since_earliest_cr_line'].median(), df['mths_since_earliest_cr_line'])\n",
    "    df['mths_since_earliest_cr_line'] = df['mths_since_earliest_cr_line'].apply(lambda x:int(x))\n",
    "    df['earliest_cr_line'] = df['mths_since_earliest_cr_line']\n",
    "    \n",
    "    return df['earliest_cr_line']\n",
    "\n",
    "df_train['earliest_cr_line'] = n_meses_primeiro_produto_credito(df_train)"
   ]
  },
  {
   "cell_type": "markdown",
   "metadata": {},
   "source": [
    "# <font color='green' style='font-size: 30px;'> 2.7) Features Estatísticas</font>\n",
    "<hr style='border: 2px solid green;'>"
   ]
  },
  {
   "cell_type": "code",
   "execution_count": 12,
   "metadata": {},
   "outputs": [],
   "source": [
    "def taxa_de_bad_por_categoria(df, categorica):\n",
    "    df_aux = df[[f'{categorica}', 'loan_status']].copy()\n",
    "    good = pd.DataFrame(df_aux.loc[df_aux['loan_status'] == 0].groupby(f'{categorica}', as_index = False)['loan_status'].count()).rename({'loan_status':'qt_good'}, axis = 1)\n",
    "    bad = pd.DataFrame(df_aux.loc[df_aux['loan_status'] == 1].groupby(f'{categorica}', as_index = False)['loan_status'].count()).rename({'loan_status':'qt_bad'}, axis = 1)\n",
    "    df_aux = good.merge(bad, on = f'{categorica}', how = 'left')\n",
    "    df_aux['qt_total'] = df_aux['qt_good'] + df_aux['qt_bad']\n",
    "    df_aux[f'bad_rate_{categorica}'] = ((df_aux['qt_bad']/df_aux['qt_total'])*100).round(2)\n",
    "    df_aux_2 = df.merge(df_aux[[f'{categorica}', f'bad_rate_{categorica}']], on = f'{categorica}', how = 'left')\n",
    "\n",
    "    return df_aux_2[f'bad_rate_{categorica}']\n",
    "\n",
    "def itera_sobre_as_categoricas_bad(df):\n",
    "    df_aux = df.copy()\n",
    "    categoricas = ['term', 'grade', 'sub_grade', 'purpose', 'initial_list_status', 'emp_length', 'verification_status', 'pub_rec', 'inq_last_6mths']\n",
    "    for cat in categoricas:\n",
    "        df_aux[f'bad_rate_{cat}'] = taxa_de_bad_por_categoria(df, cat)\n",
    "\n",
    "    return df_aux\n",
    "\n",
    "df_train = itera_sobre_as_categoricas_bad(df_train)"
   ]
  },
  {
   "cell_type": "code",
   "execution_count": 13,
   "metadata": {},
   "outputs": [],
   "source": [
    "def media_categoria_variavel_quantitativa(df, categorica, quantitativa):\n",
    "    df_aux = df[[f'{categorica}', f'{quantitativa}']].copy()\n",
    "    df_aux = pd.DataFrame(df_aux.groupby(f'{categorica}', as_index = False)[f'{quantitativa}'].mean()).rename({f'{quantitativa}':f'{categorica}_{quantitativa}_mean'}, axis = 1)\n",
    "    df_aux_2 = df.merge(df_aux[[f'{categorica}', f'{categorica}_{quantitativa}_mean']], on = f'{categorica}', how = 'left')\n",
    "\n",
    "    return df_aux_2[f'{categorica}_{quantitativa}_mean']\n",
    "\n",
    "def itera_sobre_as_categoricas(df):\n",
    "    df_aux = df.copy()\n",
    "    categoricas = ['term', 'grade', 'sub_grade', 'purpose', 'initial_list_status', 'emp_length', 'verification_status', 'pub_rec', 'inq_last_6mths']\n",
    "    quantitativas = ['loan_amnt', 'int_rate', 'annual_inc', 'annual_income_commitment_rate', 'tot_cur_bal', 'total_rev_hi_lim', 'revol_util', 'open_acc', 'total_acc']\n",
    "    for cat in categoricas:\n",
    "        for quant in quantitativas:\n",
    "            df_aux[f'{cat}_{quant}_mean'] = media_categoria_variavel_quantitativa(df, cat, quant)\n",
    "    \n",
    "    return df_aux\n",
    "\n",
    "df_train = itera_sobre_as_categoricas(df_train)\n"
   ]
  },
  {
   "cell_type": "markdown",
   "metadata": {},
   "source": [
    "# <font color='red' style='font-size: 40px;'> 3. Feature Selection </font>\n",
    "<hr style='border: 2px solid red;'>"
   ]
  },
  {
   "cell_type": "markdown",
   "metadata": {},
   "source": [
    "# <font color='green' style='font-size: 30px;'> 3.1) Verificação de Variáveis Nulas ou Irrelevantes </font>\n",
    "<hr style='border: 2px solid green;'>\n",
    "\n",
    "> 1. Excluiu-se as variáveis que possuem 100% dos registros nulos\n",
    "\n",
    "> 2. Excluiu-se também as variáveis que falam a respeito de questões de Pagamento, pois esse fenômeno é após a concessão do crédito e, como um modelo de PD serve para decidir quem pode ou não receber tal concessão, seria errado incluir variáveis de pagamento nas análises ou na modelagem\n"
   ]
  },
  {
   "cell_type": "code",
   "execution_count": 14,
   "metadata": {},
   "outputs": [
    {
     "name": "stdout",
     "output_type": "stream",
     "text": [
      "Existem 124 variáveis no Dataset\n",
      "Existem 22 variáveis sem registros nulos no Dataset\n"
     ]
    }
   ],
   "source": [
    "df_nulls = pd.DataFrame(df_train.isnull().sum()).reset_index().rename({0:'nulls_amnt'}, axis = 1)\n",
    "df_nulls['nulls_rate'] = df_nulls['nulls_amnt']/df_train.shape[0]\n",
    "print(f'Existem {len(df_nulls)} variáveis no Dataset')\n",
    "df_not_nulls_nulls = df_nulls.loc[df_nulls['nulls_rate'] == 0]\n",
    "columns_not_nulls = list(df_not_nulls_nulls['index'])\n",
    "print(f'Existem {len(columns_not_nulls)} variáveis sem registros nulos no Dataset')\n"
   ]
  },
  {
   "cell_type": "markdown",
   "metadata": {},
   "source": [
    "# <font color='green' style='font-size: 30px;'> 3.2) Verificação de Variáveis Contínuas, Discretas e Categóricas </font>\n",
    "<hr style='border: 2px solid green;'>\n",
    "\n",
    "> 1. Para facilitar a Análise Exploratória, segmentou-se as variáveis em Qualitativas, Discretas e Contínuas.\n",
    "\n",
    "> 2. Definiu-se essas classificações a fim de aplicar técnicas estatatísticas corretas para analisá-las\n",
    "\n",
    "> 3. Essa abordagem é importante pois cada tipo de variável tem determinado jeito de ser analisada. "
   ]
  },
  {
   "cell_type": "code",
   "execution_count": 15,
   "metadata": {},
   "outputs": [
    {
     "data": {
      "image/png": "[encoded data removed]",
      "text/plain": [
       "<Figure size 1000x500 with 1 Axes>"
      ]
     },
     "metadata": {},
     "output_type": "display_data"
    }
   ],
   "source": [
    "variaveis = verifica_tipo_variavel(df_train)\n",
    "plota_barras(['tipo'], False, variaveis, 1, 1, 'Distribuição do Tipo de Variável presente no Dataset', 0)"
   ]
  },
  {
   "cell_type": "markdown",
   "metadata": {},
   "source": [
    "# <font color='red' style='font-size: 40px;'> 4. Modelagem Inicial  </font>\n",
    "<hr style='border: 2px solid red;'>"
   ]
  },
  {
   "cell_type": "code",
   "execution_count": 16,
   "metadata": {},
   "outputs": [
    {
     "ename": "ValueError",
     "evalue": "could not convert string to float: ' 36 months'",
     "output_type": "error",
     "traceback": [
      "\u001b[1;31m---------------------------------------------------------------------------\u001b[0m",
      "\u001b[1;31mValueError\u001b[0m                                Traceback (most recent call last)",
      "\u001b[1;32mc:\\Users\\leova\\Desktop\\Projetos\\05_modelo_risco_de_credito\\03 Credit Risk Model - Modeling.ipynb Cell 36\u001b[0m line \u001b[0;36m1\n\u001b[1;32m----> <a href='vscode-notebook-cell:/c%3A/Users/leova/Desktop/Projetos/05_modelo_risco_de_credito/03%20Credit%20Risk%20Model%20-%20Modeling.ipynb#X46sZmlsZQ%3D%3D?line=0'>1</a>\u001b[0m df_train \u001b[39m=\u001b[39m df_train[remove_features_baixa_variancia(\u001b[39m'\u001b[39;49m\u001b[39mloan_status\u001b[39;49m\u001b[39m'\u001b[39;49m, df_train, \u001b[39m1\u001b[39;49m)]\n\u001b[0;32m      <a href='vscode-notebook-cell:/c%3A/Users/leova/Desktop/Projetos/05_modelo_risco_de_credito/03%20Credit%20Risk%20Model%20-%20Modeling.ipynb#X46sZmlsZQ%3D%3D?line=1'>2</a>\u001b[0m \u001b[39mprint\u001b[39m(df_train\u001b[39m.\u001b[39mshape)\n",
      "File \u001b[1;32mc:\\Users\\leova\\Desktop\\Projetos\\05_modelo_risco_de_credito\\functions.py:651\u001b[0m, in \u001b[0;36mremove_features_baixa_variancia\u001b[1;34m(target, df, threshold)\u001b[0m\n\u001b[0;32m    648\u001b[0m features \u001b[39m=\u001b[39m df\u001b[39m.\u001b[39mdrop(target, axis\u001b[39m=\u001b[39m\u001b[39m1\u001b[39m)\n\u001b[0;32m    650\u001b[0m selector \u001b[39m=\u001b[39m VarianceThreshold(threshold\u001b[39m=\u001b[39mthreshold)\n\u001b[1;32m--> 651\u001b[0m features_filtered \u001b[39m=\u001b[39m selector\u001b[39m.\u001b[39;49mfit_transform(features)\n\u001b[0;32m    653\u001b[0m feature_indices \u001b[39m=\u001b[39m selector\u001b[39m.\u001b[39mget_support(indices\u001b[39m=\u001b[39m\u001b[39mTrue\u001b[39;00m)\n\u001b[0;32m    654\u001b[0m selected_features \u001b[39m=\u001b[39m features\u001b[39m.\u001b[39mcolumns[feature_indices]\n",
      "File \u001b[1;32mc:\\Users\\leova\\anaconda3\\lib\\site-packages\\sklearn\\utils\\_set_output.py:140\u001b[0m, in \u001b[0;36m_wrap_method_output.<locals>.wrapped\u001b[1;34m(self, X, *args, **kwargs)\u001b[0m\n\u001b[0;32m    138\u001b[0m \u001b[39m@wraps\u001b[39m(f)\n\u001b[0;32m    139\u001b[0m \u001b[39mdef\u001b[39;00m \u001b[39mwrapped\u001b[39m(\u001b[39mself\u001b[39m, X, \u001b[39m*\u001b[39margs, \u001b[39m*\u001b[39m\u001b[39m*\u001b[39mkwargs):\n\u001b[1;32m--> 140\u001b[0m     data_to_wrap \u001b[39m=\u001b[39m f(\u001b[39mself\u001b[39m, X, \u001b[39m*\u001b[39margs, \u001b[39m*\u001b[39m\u001b[39m*\u001b[39mkwargs)\n\u001b[0;32m    141\u001b[0m     \u001b[39mif\u001b[39;00m \u001b[39misinstance\u001b[39m(data_to_wrap, \u001b[39mtuple\u001b[39m):\n\u001b[0;32m    142\u001b[0m         \u001b[39m# only wrap the first output for cross decomposition\u001b[39;00m\n\u001b[0;32m    143\u001b[0m         \u001b[39mreturn\u001b[39;00m (\n\u001b[0;32m    144\u001b[0m             _wrap_data_with_container(method, data_to_wrap[\u001b[39m0\u001b[39m], X, \u001b[39mself\u001b[39m),\n\u001b[0;32m    145\u001b[0m             \u001b[39m*\u001b[39mdata_to_wrap[\u001b[39m1\u001b[39m:],\n\u001b[0;32m    146\u001b[0m         )\n",
      "File \u001b[1;32mc:\\Users\\leova\\anaconda3\\lib\\site-packages\\sklearn\\base.py:878\u001b[0m, in \u001b[0;36mTransformerMixin.fit_transform\u001b[1;34m(self, X, y, **fit_params)\u001b[0m\n\u001b[0;32m    874\u001b[0m \u001b[39m# non-optimized default implementation; override when a better\u001b[39;00m\n\u001b[0;32m    875\u001b[0m \u001b[39m# method is possible for a given clustering algorithm\u001b[39;00m\n\u001b[0;32m    876\u001b[0m \u001b[39mif\u001b[39;00m y \u001b[39mis\u001b[39;00m \u001b[39mNone\u001b[39;00m:\n\u001b[0;32m    877\u001b[0m     \u001b[39m# fit method of arity 1 (unsupervised transformation)\u001b[39;00m\n\u001b[1;32m--> 878\u001b[0m     \u001b[39mreturn\u001b[39;00m \u001b[39mself\u001b[39m\u001b[39m.\u001b[39mfit(X, \u001b[39m*\u001b[39m\u001b[39m*\u001b[39mfit_params)\u001b[39m.\u001b[39mtransform(X)\n\u001b[0;32m    879\u001b[0m \u001b[39melse\u001b[39;00m:\n\u001b[0;32m    880\u001b[0m     \u001b[39m# fit method of arity 2 (supervised transformation)\u001b[39;00m\n\u001b[0;32m    881\u001b[0m     \u001b[39mreturn\u001b[39;00m \u001b[39mself\u001b[39m\u001b[39m.\u001b[39mfit(X, y, \u001b[39m*\u001b[39m\u001b[39m*\u001b[39mfit_params)\u001b[39m.\u001b[39mtransform(X)\n",
      "File \u001b[1;32mc:\\Users\\leova\\anaconda3\\lib\\site-packages\\sklearn\\feature_selection\\_variance_threshold.py:98\u001b[0m, in \u001b[0;36mVarianceThreshold.fit\u001b[1;34m(self, X, y)\u001b[0m\n\u001b[0;32m     80\u001b[0m \u001b[39m\u001b[39m\u001b[39m\"\"\"Learn empirical variances from X.\u001b[39;00m\n\u001b[0;32m     81\u001b[0m \n\u001b[0;32m     82\u001b[0m \u001b[39mParameters\u001b[39;00m\n\u001b[1;32m   (...)\u001b[0m\n\u001b[0;32m     95\u001b[0m \u001b[39m    Returns the instance itself.\u001b[39;00m\n\u001b[0;32m     96\u001b[0m \u001b[39m\"\"\"\u001b[39;00m\n\u001b[0;32m     97\u001b[0m \u001b[39mself\u001b[39m\u001b[39m.\u001b[39m_validate_params()\n\u001b[1;32m---> 98\u001b[0m X \u001b[39m=\u001b[39m \u001b[39mself\u001b[39;49m\u001b[39m.\u001b[39;49m_validate_data(\n\u001b[0;32m     99\u001b[0m     X,\n\u001b[0;32m    100\u001b[0m     accept_sparse\u001b[39m=\u001b[39;49m(\u001b[39m\"\u001b[39;49m\u001b[39mcsr\u001b[39;49m\u001b[39m\"\u001b[39;49m, \u001b[39m\"\u001b[39;49m\u001b[39mcsc\u001b[39;49m\u001b[39m\"\u001b[39;49m),\n\u001b[0;32m    101\u001b[0m     dtype\u001b[39m=\u001b[39;49mnp\u001b[39m.\u001b[39;49mfloat64,\n\u001b[0;32m    102\u001b[0m     force_all_finite\u001b[39m=\u001b[39;49m\u001b[39m\"\u001b[39;49m\u001b[39mallow-nan\u001b[39;49m\u001b[39m\"\u001b[39;49m,\n\u001b[0;32m    103\u001b[0m )\n\u001b[0;32m    105\u001b[0m \u001b[39mif\u001b[39;00m \u001b[39mhasattr\u001b[39m(X, \u001b[39m\"\u001b[39m\u001b[39mtoarray\u001b[39m\u001b[39m\"\u001b[39m):  \u001b[39m# sparse matrix\u001b[39;00m\n\u001b[0;32m    106\u001b[0m     _, \u001b[39mself\u001b[39m\u001b[39m.\u001b[39mvariances_ \u001b[39m=\u001b[39m mean_variance_axis(X, axis\u001b[39m=\u001b[39m\u001b[39m0\u001b[39m)\n",
      "File \u001b[1;32mc:\\Users\\leova\\anaconda3\\lib\\site-packages\\sklearn\\base.py:565\u001b[0m, in \u001b[0;36mBaseEstimator._validate_data\u001b[1;34m(self, X, y, reset, validate_separately, **check_params)\u001b[0m\n\u001b[0;32m    563\u001b[0m     \u001b[39mraise\u001b[39;00m \u001b[39mValueError\u001b[39;00m(\u001b[39m\"\u001b[39m\u001b[39mValidation should be done on X, y or both.\u001b[39m\u001b[39m\"\u001b[39m)\n\u001b[0;32m    564\u001b[0m \u001b[39melif\u001b[39;00m \u001b[39mnot\u001b[39;00m no_val_X \u001b[39mand\u001b[39;00m no_val_y:\n\u001b[1;32m--> 565\u001b[0m     X \u001b[39m=\u001b[39m check_array(X, input_name\u001b[39m=\u001b[39m\u001b[39m\"\u001b[39m\u001b[39mX\u001b[39m\u001b[39m\"\u001b[39m, \u001b[39m*\u001b[39m\u001b[39m*\u001b[39mcheck_params)\n\u001b[0;32m    566\u001b[0m     out \u001b[39m=\u001b[39m X\n\u001b[0;32m    567\u001b[0m \u001b[39melif\u001b[39;00m no_val_X \u001b[39mand\u001b[39;00m \u001b[39mnot\u001b[39;00m no_val_y:\n",
      "File \u001b[1;32mc:\\Users\\leova\\anaconda3\\lib\\site-packages\\sklearn\\utils\\validation.py:879\u001b[0m, in \u001b[0;36mcheck_array\u001b[1;34m(array, accept_sparse, accept_large_sparse, dtype, order, copy, force_all_finite, ensure_2d, allow_nd, ensure_min_samples, ensure_min_features, estimator, input_name)\u001b[0m\n\u001b[0;32m    877\u001b[0m         array \u001b[39m=\u001b[39m xp\u001b[39m.\u001b[39mastype(array, dtype, copy\u001b[39m=\u001b[39m\u001b[39mFalse\u001b[39;00m)\n\u001b[0;32m    878\u001b[0m     \u001b[39melse\u001b[39;00m:\n\u001b[1;32m--> 879\u001b[0m         array \u001b[39m=\u001b[39m _asarray_with_order(array, order\u001b[39m=\u001b[39;49morder, dtype\u001b[39m=\u001b[39;49mdtype, xp\u001b[39m=\u001b[39;49mxp)\n\u001b[0;32m    880\u001b[0m \u001b[39mexcept\u001b[39;00m ComplexWarning \u001b[39mas\u001b[39;00m complex_warning:\n\u001b[0;32m    881\u001b[0m     \u001b[39mraise\u001b[39;00m \u001b[39mValueError\u001b[39;00m(\n\u001b[0;32m    882\u001b[0m         \u001b[39m\"\u001b[39m\u001b[39mComplex data not supported\u001b[39m\u001b[39m\\n\u001b[39;00m\u001b[39m{}\u001b[39;00m\u001b[39m\\n\u001b[39;00m\u001b[39m\"\u001b[39m\u001b[39m.\u001b[39mformat(array)\n\u001b[0;32m    883\u001b[0m     ) \u001b[39mfrom\u001b[39;00m \u001b[39mcomplex_warning\u001b[39;00m\n",
      "File \u001b[1;32mc:\\Users\\leova\\anaconda3\\lib\\site-packages\\sklearn\\utils\\_array_api.py:185\u001b[0m, in \u001b[0;36m_asarray_with_order\u001b[1;34m(array, dtype, order, copy, xp)\u001b[0m\n\u001b[0;32m    182\u001b[0m     xp, _ \u001b[39m=\u001b[39m get_namespace(array)\n\u001b[0;32m    183\u001b[0m \u001b[39mif\u001b[39;00m xp\u001b[39m.\u001b[39m\u001b[39m__name__\u001b[39m \u001b[39min\u001b[39;00m {\u001b[39m\"\u001b[39m\u001b[39mnumpy\u001b[39m\u001b[39m\"\u001b[39m, \u001b[39m\"\u001b[39m\u001b[39mnumpy.array_api\u001b[39m\u001b[39m\"\u001b[39m}:\n\u001b[0;32m    184\u001b[0m     \u001b[39m# Use NumPy API to support order\u001b[39;00m\n\u001b[1;32m--> 185\u001b[0m     array \u001b[39m=\u001b[39m numpy\u001b[39m.\u001b[39;49masarray(array, order\u001b[39m=\u001b[39;49morder, dtype\u001b[39m=\u001b[39;49mdtype)\n\u001b[0;32m    186\u001b[0m     \u001b[39mreturn\u001b[39;00m xp\u001b[39m.\u001b[39masarray(array, copy\u001b[39m=\u001b[39mcopy)\n\u001b[0;32m    187\u001b[0m \u001b[39melse\u001b[39;00m:\n",
      "File \u001b[1;32mc:\\Users\\leova\\anaconda3\\lib\\site-packages\\pandas\\core\\generic.py:2070\u001b[0m, in \u001b[0;36mNDFrame.__array__\u001b[1;34m(self, dtype)\u001b[0m\n\u001b[0;32m   2069\u001b[0m \u001b[39mdef\u001b[39;00m \u001b[39m__array__\u001b[39m(\u001b[39mself\u001b[39m, dtype: npt\u001b[39m.\u001b[39mDTypeLike \u001b[39m|\u001b[39m \u001b[39mNone\u001b[39;00m \u001b[39m=\u001b[39m \u001b[39mNone\u001b[39;00m) \u001b[39m-\u001b[39m\u001b[39m>\u001b[39m np\u001b[39m.\u001b[39mndarray:\n\u001b[1;32m-> 2070\u001b[0m     \u001b[39mreturn\u001b[39;00m np\u001b[39m.\u001b[39;49masarray(\u001b[39mself\u001b[39;49m\u001b[39m.\u001b[39;49m_values, dtype\u001b[39m=\u001b[39;49mdtype)\n",
      "\u001b[1;31mValueError\u001b[0m: could not convert string to float: ' 36 months'"
     ]
    }
   ],
   "source": [
    "df_train = df_train[remove_features_baixa_variancia('loan_status', df_train, 1)]\n",
    "print(df_train.shape)"
   ]
  },
  {
   "cell_type": "code",
   "execution_count": null,
   "metadata": {},
   "outputs": [],
   "source": [
    "df_train = df_train[remove_features_mutual_information('TARGET', df_train, 0)[1]]\n",
    "print(df_train.shape)"
   ]
  },
  {
   "cell_type": "code",
   "execution_count": null,
   "metadata": {},
   "outputs": [],
   "source": [
    "df_train = df_train[remove_features_feature_importance('TARGET', df_train, 10, 0.01)]\n",
    "print(df_train.shape)"
   ]
  },
  {
   "attachments": {},
   "cell_type": "markdown",
   "metadata": {},
   "source": [
    "# <font color='red' style='font-size: 40px;'> 5. Otimização do Modelo Escolhido </font>\n",
    "<hr style='border: 2px solid red;'>"
   ]
  },
  {
   "cell_type": "code",
   "execution_count": null,
   "metadata": {},
   "outputs": [],
   "source": []
  },
  {
   "cell_type": "code",
   "execution_count": null,
   "metadata": {},
   "outputs": [],
   "source": []
  },
  {
   "cell_type": "markdown",
   "metadata": {},
   "source": [
    "# <font color='red' style='font-size: 40px;'> 6. Criação da Política de Crédito para Baseline</font>\n",
    "<hr style='border: 2px solid red;'>"
   ]
  },
  {
   "cell_type": "code",
   "execution_count": null,
   "metadata": {},
   "outputs": [],
   "source": []
  },
  {
   "cell_type": "code",
   "execution_count": null,
   "metadata": {},
   "outputs": [],
   "source": []
  },
  {
   "cell_type": "markdown",
   "metadata": {},
   "source": [
    "# <font color='red' style='font-size: 40px;'> 7. Tradução e Quantificação dos Resultados</font>\n",
    "<hr style='border: 2px solid red;'>"
   ]
  },
  {
   "cell_type": "code",
   "execution_count": null,
   "metadata": {},
   "outputs": [],
   "source": []
  },
  {
   "cell_type": "code",
   "execution_count": null,
   "metadata": {},
   "outputs": [],
   "source": []
  }
 ],
 "metadata": {
  "kernelspec": {
   "display_name": "base",
   "language": "python",
   "name": "python3"
  },
  "language_info": {
   "codemirror_mode": {
    "name": "ipython",
    "version": 3
   },
   "file_extension": ".py",
   "mimetype": "text/x-python",
   "name": "python",
   "nbconvert_exporter": "python",
   "pygments_lexer": "ipython3",
   "version": "3.9.16"
  },
  "orig_nbformat": 4,
  "vscode": {
   "interpreter": {
    "hash": "5a9a036f549c34521959f2e35c11282d59c2fa6997060d671aa6f29f1c44b680"
   }
  }
 },
 "nbformat": 4,
 "nbformat_minor": 2
}
