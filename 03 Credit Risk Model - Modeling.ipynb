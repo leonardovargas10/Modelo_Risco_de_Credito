{
 "cells": [
  {
   "attachments": {},
   "cell_type": "markdown",
   "metadata": {},
   "source": [
    "<h1 style='color: blue; font-size: 34px; font-weight: bold;'> Análise de Risco de Crédito direcionada por Modelagem Matemática e Estatística\n",
    "</h1>\n",
    "<p style='font-size: 18px; line-height: 2; margin: 0px 0px; text-align: justify; text-indent: 0px;'>    \n",
    "<i> Este Notebook concentra código fonte da Tese de Bacharelado do curso de Engenharia de Controle e Automação da UNESP Sorocaba desenvolvido pelo aluno Leonardo Aderaldo Vargas.  </i> \n",
    "</p>  "
   ]
  },
  {
   "attachments": {},
   "cell_type": "markdown",
   "metadata": {},
   "source": [
    "# <font color='red' style='font-size: 40px;'> Problemática </font>\n",
    "<hr style='border: 2px solid red;'>\n",
    "\n",
    "Amostra baseada na base de dados do Lending Club Loan Data : https://www.kaggle.com/datasets/adarshsng/lending-club-loan-data-csv/data\n",
    "\n",
    "<p style='font-size: 18px; line-height: 2; margin: 0px 0px; text-align: justify; text-indent: 0px;'>    \n",
    "<i> Lending Club é uma empresa de empréstimos peer-to-peer com sede nos EUA. Eles combinam pessoas que desejam investir dinheiro com pessoas que desejam pedir dinheiro emprestado. Quando os investidores investem o seu dinheiro através do Lending Club, esse dinheiro é repassado aos mutuários e, quando os mutuários pagam os seus empréstimos, o capital mais os juros são repassados ​​aos investidores. É uma vitória para todos, pois podem obter taxas de empréstimo normalmente mais baixas e retornos mais elevados para os investidores.</i>\n",
    "</p>  \n",
    "\n",
    "<p style='font-size: 18px; line-height: 2; margin: 0px 0px; text-align: justify; text-indent: 0px;'>    \n",
    "<i>O conjunto de dados Lending Club contém dados completos de empréstimos para todos os empréstimos emitidos entre 2007-2015, incluindo a situação atual do empréstimo (atual, atrasado, totalmente pago, etc.) e as informações de pagamento mais recentes. Os recursos (também conhecidos como variáveis) incluem pontuação de crédito, número de consultas financeiras, endereço incluindo códigos postais e estado, e cobranças, entre outros. As cobranças indicam se o cliente perdeu um ou mais pagamentos e a equipe está tentando recuperar o dinheiro. O arquivo é uma amostra da base de dados exposta.</i>\n",
    "</p>  \n",
    "\n",
    "\n",
    "\n"
   ]
  },
  {
   "cell_type": "markdown",
   "metadata": {},
   "source": [
    "# <font color='red' style='font-size: 40px;'> Library   </font>\n",
    "<hr style='border: 2px solid red;'>"
   ]
  },
  {
   "cell_type": "code",
   "execution_count": 1,
   "metadata": {},
   "outputs": [],
   "source": [
    "# Importação das Bibliotecas e Parâmetros de Otimização\n",
    "from functions import *\n",
    "%matplotlib inline\n",
    "sns.set(style=\"whitegrid\", font_scale=1.2)\n",
    "plt.rcParams['font.family'] = 'Arial'\n",
    "plt.rcParams['font.size'] = '14'\n",
    "plt.rcParams['figure.figsize'] = [10, 5]\n",
    "pd.set_option('display.max_rows', 100)\n",
    "pd.set_option('display.max_columns', 100)\n",
    "pd.set_option('display.max_colwidth', None)\n",
    "pd.set_option('display.expand_frame_repr', False)\n",
    "pd.set_option('display.float_format', lambda x: '%.2f' % x) # Tira os números do formato de Notação Científica\n",
    "np.set_printoptions(suppress=True) # Tira os números do formato de Notação Científica em Numpy Arrays\n",
    "warnings.filterwarnings('ignore')\n",
    "warnings.simplefilter(action='ignore', category=FutureWarning) # Retira Future Warnings\n",
    "\n",
    "# Spark Session\n",
    "# from pyspark.sql import SparkSession, Row \n",
    "# #from pyspark.sql.functions import * as F\n",
    "# import pyspark.sql.functions as F\n",
    "# spark = SparkSession.builder.getOrCreate()"
   ]
  },
  {
   "cell_type": "markdown",
   "metadata": {},
   "source": [
    "# <font color='red' style='font-size: 40px;'> 1. Pré-Processamento </font>\n",
    "<hr style='border: 2px solid red;'>"
   ]
  },
  {
   "cell_type": "markdown",
   "metadata": {},
   "source": [
    "# <font color='green' style='font-size: 30px;'> 1.1) Descrição da Base de Dados </font>\n",
    "<hr style='border: 2px solid green;'>\n",
    "\n",
    "### Variável Target (VALIDADO)\n",
    "\n",
    "> 1. loan_status: Situação atual do empréstimo, sendo possível classificar o Cliente em Bom ou Ruim (IMPORTANTE)\n",
    "\n",
    "### Variável ID (VALIDADO)\n",
    "\n",
    "> 1. member_id: Id do solicitante (IMPORTANTE)\n",
    "\n",
    "\n",
    "### Variáveis Referentes ao Produto (VALIDADO)\n",
    "\n",
    "> 1. term: O número de pagamentos do empréstimo, podendo serem 36 parcelas ou 60 (IMPORTANTE)\n",
    "\n",
    "> 2. grade: Grau de empréstimo atribuído (IMPORTANTE)\n",
    "\n",
    "> 3. sub_grade: Subclasse de empréstimo atribuído (IMPORTANTE)\n",
    "\n",
    "> 4. purpose: Categoria (MCC/CNAE por exemplo) fornecida pelo cliente para pegar o empréstimo (IMPORTANTE)\n",
    "\n",
    "> 5. loan_amnt: Valor do empréstimo solicitado pelo mutuário; Se em algum momento o departamento de crédito reduzir do empréstimo, isso será refletido nesse valor (IMPORTANTE)\n",
    "\n",
    "> 6. int_rate: Taxa de juros do empréstimo (IMPORTANTE)\n",
    "\n",
    "> 7. issue_d: Data em que o empréstimo foi financiado (IMPORTANTE)\n",
    "\n",
    "> 8. policy_code: Flag que indica Produto disponível publicamente ou não (IMPORTANTE)\n",
    "\n",
    "> 9. pymnt_plan: Flag que indica se um plano de pagamento foi implementado para o empréstimo (IMPORTANTE)\n",
    "\n",
    "> 10. initial_list_status: Status de listagem inicial do empréstimo. Os valores possíveis são W-F (IMPORTANTE)\n",
    "\n",
    "> 11. installment: O pagamento mensal devido pelo mutuário se o empréstimo for originado. (Em termos simples, a originação de um empréstimo é o ponto de partida, onde o mutuário (a pessoa ou entidade que pede o empréstimo) solicita o empréstimo a um credor (a instituição financeira ou pessoa que empresta o dinheiro) e o credor avalia a solicitação, verifica a elegibilidade do mutuário e decide se concederá ou não o empréstimo.) (IMPORTANTE)\n",
    "\n",
    " ### Variáveis Referentes ao Cliente (VALIDADO)\n",
    "\n",
    " > 1. emp_title: O cargo fornecido pelo cliente ao solicitar o empréstimo (IMPORTANTE)\n",
    "\n",
    " > 2. emp_length: Duração do emprego que ele está em anos, sendo que 0 significa menos de 1 ano e 10 significa dez ou mais anos (IMPORTANTE)\n",
    "\n",
    " > 3. home_ownership: Flag que indica o Status da propriedade residencial do cliente ao solicitar o empréstimo, podenso ser aluguel, próprio, hipoteca, outros. (IMPORTANTE)\n",
    "\n",
    " > 4. verification_status: Flag que indica se a renda foi comprovada, não comprovada (IMPORTANTE)\n",
    "\n",
    " > 5. O número de incidências de inadimplência vencidas há mais de 30 dias no arquivo de crédito do mutuário nos últimos 2 anos (IMPORTANTE)\n",
    "\n",
    " > 6. annual_inc: Renda anual declarada pelo cliente (IMPORTANTE)\n",
    "\n",
    " > 7. addr_state: Estado do Cliente (IMPORTANTE)\n",
    "\n",
    " > 8. tot_cur_bal: Limite total considerando todos os produtos de crédito (IMPORTANTE)\n",
    "\n",
    " > 9. total_rev_hi_lim: Limite de rotativos total (IMPORTANTE)\n",
    " \n",
    " > 10. revol_bal: Limite de rotativos utilizado (IMPORTANTE)\n",
    "\n",
    " > 11. revol_util: Taxa de utilização de Limite de rotativos [revol_bal/total_rev_hi_lim] (IMPORTANTE)\n",
    "\n",
    " > 12. open_acc: Número de produtos de crédito atualmente contratados no histórico do cliente (IMPORTANTE)\n",
    "\n",
    " > 13. total_acc: Número total de produtos de crédito contratados no histórico do cliente (IMPORTANTE)\n",
    "\n",
    " > 14. pub_rec: Número de registros públicos depreciativos (IMPORTANTE)\n",
    " \n",
    " > 15. inq_last_6mths: Número de consultas nos últimos 6 meses (excluindo consultas sobre automóveis e hipotecas) (IMPORTANTE)\n",
    "\n",
    " > 16. earliest_cr_line: Data em que o primeiro produto de crédito foi contratado pelo cliente (IMPORTANTE)\n",
    "\n",
    " > 17. mths_since_last_record: Número de meses desde o último registro público (IMPORTANTE)\n",
    "\n",
    " > 18. mths_since_last_major_derog: Meses desde a classificação mais recente de 90 dias ou menos (IMPORTANTE)\n",
    "\n",
    " > 19. mths_since_last_delinq: O número de meses desde a última inadimplência do mutuário (IMPORTANTE)\n"
   ]
  },
  {
   "cell_type": "code",
   "execution_count": 2,
   "metadata": {},
   "outputs": [],
   "source": [
    "df = pd.read_parquet('data/credit_risk_loan_data.parquet').drop(['id', 'member_id', 'url'], axis = 1)"
   ]
  },
  {
   "cell_type": "markdown",
   "metadata": {},
   "source": [
    "# <font color='green' style='font-size: 30px;'> 1.2) Definição da Target </font>\n",
    "<hr style='border: 2px solid green;'>\n",
    "\n",
    "> 1. A priori, deve-se definir de maneira clara as situações consideradas como Default. Definiu-se um cliente ruim como aquele o qual está em:\n",
    "\n",
    "- Processo de cobraça ('Charged Off')\n",
    "- Inadimplente ('Default')\n",
    "- Atrasado (31 dias ou mais)\n",
    "- Critérios Mínimos de Aprovação - CMA ('Does not meet the credit policy. Status:Charged Off')\n",
    "- Possui 1 ou mais contas em inadimplência\n",
    "\n",
    "> 2. A partir desta definição, deve-se criar a Target mostrando exatamente o que é um cliente Bom ou Ruim \n",
    "\n",
    "> 3. Escolheu-se o número \"0\" para representar o cliente Bom e o número \"1\" para representar o cliente Ruim, pois o evento de interesse é definir principalmente quem são os Maus Pagadores a fim de evitar ao máximo a inadimplêmcia\n",
    "\n",
    "> 4. Nota-se que em torno de 88.74% dos clientes são adimplentes, ao passo que 11.26% tornou-se inadimplente\n",
    "\n",
    "> 5. Esta situação caracteriza um problema de classes desbalanceadas, portanto, isso deve-se ser levado em consideração durante o processo de modelagem e aplicar técnicas para lidar com este tipo de caso"
   ]
  },
  {
   "cell_type": "code",
   "execution_count": 3,
   "metadata": {},
   "outputs": [
    {
     "data": {
      "image/png": "[encoded data removed]",
      "text/plain": [
       "<Figure size 1000x500 with 1 Axes>"
      ]
     },
     "metadata": {},
     "output_type": "display_data"
    }
   ],
   "source": [
    "df['loan_status'] = np.where(df['loan_status'].isin(['Charged Off', 'Default', 'Late (31-120 days)', 'Does not meet the credit policy. Status:Charged Off']) | df['acc_now_delinq'].fillna(0) != 0, 'BAD', 'GOOD') \n",
    "plota_barras(['loan_status'], False, df, 1, 1, 'Distribuição de Bons (0) e Maus Clientes (1)', 0)\n",
    "df['loan_status'] = np.where(df['loan_status'] == 'BAD', 1, 0)"
   ]
  },
  {
   "cell_type": "markdown",
   "metadata": {},
   "source": [
    "# <font color='green' style='font-size: 30px;'> 1.3) Separação em Treino e Teste </font>\n",
    "<hr style='border: 2px solid green;'>\n",
    "\n",
    "> 1. Antes de realizar qualquer análise ou modelagem, deve-se separar em Treino e Teste a fim de simular um ambiente real\n",
    "\n",
    "> 2. Ao separar antes de qualquer alteração, evita-se um erro muito grave denominado Data leakage\n",
    "\n",
    "> 3. As análises serão realizadas unicamente sobre a base de Treinamento, simulando um ambiente real no qual a priori a base de Teste seria inexistente "
   ]
  },
  {
   "cell_type": "code",
   "execution_count": 4,
   "metadata": {},
   "outputs": [
    {
     "name": "stdout",
     "output_type": "stream",
     "text": [
      "Quantidade de Dados Utilizados para Treinamento: 373028\n",
      "Quantidade de Dados Utilizados para Teste: 93257\n"
     ]
    }
   ],
   "source": [
    "df_train = separa_treino_teste('loan_status', df, 0.20)[0]\n",
    "df_test = separa_treino_teste('loan_status', df, 0.20)[1]\n",
    "\n",
    "print(f'Quantidade de Dados Utilizados para Treinamento: {df_train.shape[0]}')\n",
    "print(f'Quantidade de Dados Utilizados para Teste: {df_test.shape[0]}')"
   ]
  },
  {
   "cell_type": "markdown",
   "metadata": {},
   "source": [
    "# <font color='green' style='font-size: 30px;'> 1.4) Variáveis de Entrada </font>\n",
    "<hr style='border: 2px solid green;'>\n",
    "\n",
    "> 1. Após a análise de variáveis de Produtos e Clientes, definiu-se quais serão utilizadas como entrada do modelo "
   ]
  },
  {
   "cell_type": "code",
   "execution_count": 5,
   "metadata": {},
   "outputs": [
    {
     "name": "stdout",
     "output_type": "stream",
     "text": [
      "Existem 30 variáveis excluindo as que são referentes a Pagamento ou variáveis totalmente irrelevantes no Dataset\n"
     ]
    }
   ],
   "source": [
    "columns_selected = ['loan_status','term','grade','sub_grade','purpose', 'delinq_2yrs', 'loan_amnt','int_rate','issue_d','policy_code','pymnt_plan','initial_list_status','installment','emp_length','home_ownership',\n",
    "'verification_status','annual_inc','addr_state', 'tot_cur_bal','total_rev_hi_lim','revol_bal','revol_util','open_acc','total_acc','pub_rec','inq_last_6mths','earliest_cr_line','mths_since_last_record', 'mths_since_last_major_derog',\n",
    "'mths_since_last_delinq']\n",
    "\n",
    "df_train = df_train[columns_selected]\n",
    "df_test = df_test[columns_selected]\n",
    "print(f'Existem {len(columns_selected)} variáveis excluindo as que são referentes a Pagamento ou variáveis totalmente irrelevantes no Dataset')"
   ]
  },
  {
   "cell_type": "markdown",
   "metadata": {},
   "source": [
    "# <font color='red' style='font-size: 40px;'> 2. Engenharia de Atributos </font>\n",
    "<hr style='border: 2px solid red;'>"
   ]
  },
  {
   "cell_type": "markdown",
   "metadata": {},
   "source": [
    "# <font color='green' style='font-size: 30px;'> 2.1) Anos no emprego atual</font>\n",
    "<hr style='border: 2px solid green;'>"
   ]
  },
  {
   "cell_type": "code",
   "execution_count": 6,
   "metadata": {},
   "outputs": [],
   "source": [
    "def numero_de_anos_emprego_atual(df):\n",
    "    df['emp_length'] = (df['emp_length'].replace({'< 1 year':0, '1 year':1, '2 years':2, '3 years':3, '4 years':4, '5 years':5, '6 years':6, '7 years':7, '8 years':8, '9 years':9,'10+ years':10}).fillna(0))\n",
    "    df['emp_length'] = df['emp_length'].apply(lambda x:int(x))\n",
    "    df['emp_length'] = np.where(df['emp_length'] <= 3, '3_YEARS', \n",
    "                        np.where(df['emp_length'] <= 6, '6_YEARS',\n",
    "                        np.where(df['emp_length'] <= 9, '9_YEARS',\n",
    "                        '10_YEARS+')))\n",
    "    return df['emp_length']\n",
    "\n",
    "df_train['emp_length'] = numero_de_anos_emprego_atual(df_train)"
   ]
  },
  {
   "cell_type": "markdown",
   "metadata": {},
   "source": [
    "# <font color='green' style='font-size: 30px;'> 2.2) Número de Registros Negativos</font>\n",
    "<hr style='border: 2px solid green;'>"
   ]
  },
  {
   "cell_type": "code",
   "execution_count": 7,
   "metadata": {},
   "outputs": [],
   "source": [
    "def numero_de_registros_negativos(df):\n",
    "\n",
    "    df = df_train[['loan_status', 'pub_rec']].copy()\n",
    "    df[['pub_rec']] = np.where(df[['pub_rec']] == 0, 'sem_registros_negativos', 'com_registros_negativos')\n",
    "\n",
    "    return df['pub_rec']\n",
    "\n",
    "df_train['pub_rec'] = numero_de_registros_negativos(df_train)"
   ]
  },
  {
   "cell_type": "markdown",
   "metadata": {},
   "source": [
    "# <font color='green' style='font-size: 30px;'> 2.3) Consulta de Crédito nos Últimos 6 meses</font>\n",
    "<hr style='border: 2px solid green;'>"
   ]
  },
  {
   "cell_type": "code",
   "execution_count": 8,
   "metadata": {},
   "outputs": [],
   "source": [
    "def consulta_de_credito_nos_ultimos_6_meses(df):\n",
    "    df = df_train[['loan_status', 'inq_last_6mths']].copy()\n",
    "    df[['inq_last_6mths']] = np.where(df[['inq_last_6mths']] == 0, 'sem_consultas', 'com_consultas')\n",
    "\n",
    "    return df['inq_last_6mths']\n",
    "\n",
    "df_train['inq_last_6mths'] = consulta_de_credito_nos_ultimos_6_meses(df_train)"
   ]
  },
  {
   "cell_type": "markdown",
   "metadata": {},
   "source": [
    "# <font color='green' style='font-size: 30px;'> 2.4) Comprometimento de Renda</font>\n",
    "<hr style='border: 2px solid green;'>"
   ]
  },
  {
   "cell_type": "code",
   "execution_count": 9,
   "metadata": {},
   "outputs": [],
   "source": [
    "def compromento_de_renda(df): \n",
    "    df_aux = df_train[['annual_inc', 'installment', 'loan_amnt', 'term', 'int_rate', 'loan_status']].copy()\n",
    "    df_aux['term'] = np.where(df_aux['term'] == ' 36 months', 3, 5)\n",
    "    df_aux['loan_amnt_with_int_rate'] = calcula_juros_compostos(df_aux['loan_amnt'], df_aux['int_rate'], df_aux['term'])\n",
    "    df_aux['annual_payment'] = df_aux['loan_amnt_with_int_rate']/df_aux['term']\n",
    "    df_aux['annual_income_commitment_rate'] = ((df_aux['annual_payment']/df_aux['annual_inc'])*100).round(2)\n",
    "    \n",
    "    return df_aux['annual_income_commitment_rate']\n",
    "\n",
    "df_train['annual_income_commitment_rate'] = compromento_de_renda(df_train)"
   ]
  },
  {
   "cell_type": "markdown",
   "metadata": {},
   "source": [
    "# <font color='green' style='font-size: 30px;'> 2.5) Número de incidências de inadimplência vencidas há mais de 30 dias no arquivo de crédito do mutuário nos últimos 2 anos</font>\n",
    "<hr style='border: 2px solid green;'>"
   ]
  },
  {
   "cell_type": "code",
   "execution_count": 10,
   "metadata": {},
   "outputs": [],
   "source": [
    "def numero_incidencias_inadimplencia_vencidas_30d(df):\n",
    "    df_aux = df_train[['loan_status', 'delinq_2yrs']].copy()\n",
    "    df_aux['delinq_2yrs'] = np.where(df_aux[['delinq_2yrs']] == 0, 'sem_inadimplencia_vencida', 'com_inadimplencia_vencida')\n",
    "\n",
    "    return df_aux['delinq_2yrs']\n",
    "\n",
    "df_train['delinq_2yrs'] = numero_incidencias_inadimplencia_vencidas_30d(df_train)"
   ]
  },
  {
   "cell_type": "markdown",
   "metadata": {},
   "source": [
    "# <font color='green' style='font-size: 30px;'> 2.6) Número de meses desde a contratação do produto de crédito atual</font>\n",
    "<hr style='border: 2px solid green;'>"
   ]
  },
  {
   "cell_type": "code",
   "execution_count": 11,
   "metadata": {},
   "outputs": [],
   "source": [
    "def n_meses_produto_credito_atual(df):\n",
    "    df = df.copy()\n",
    "    df['issue_d'] = pd.to_datetime(df['issue_d'], format = '%b-%y')\n",
    "    df['mths_since_issue_d'] = round(pd.to_numeric((pd.to_datetime('2023-09-20') - df['issue_d'])/np.timedelta64(1, 'M')))\n",
    "    df['mths_since_issue_d'] = df['mths_since_issue_d'].fillna(df['mths_since_issue_d'].median())\n",
    "    df['mths_since_issue_d'] = np.where(df['mths_since_issue_d'] < 0, df['mths_since_issue_d'].median(), df['mths_since_issue_d'])\n",
    "    df['mths_since_issue_d'] = df['mths_since_issue_d'].apply(lambda x:int(x))\n",
    "    df['issue_d'] = df['mths_since_issue_d']\n",
    "\n",
    "    return df['issue_d']\n",
    "\n",
    "df_train['issue_d'] = n_meses_produto_credito_atual(df_train)"
   ]
  },
  {
   "cell_type": "markdown",
   "metadata": {},
   "source": [
    "# <font color='green' style='font-size: 30px;'> 2.7) Número de meses desde a contratação do primeiro produto de crédito</font>\n",
    "<hr style='border: 2px solid green;'>"
   ]
  },
  {
   "cell_type": "code",
   "execution_count": 12,
   "metadata": {},
   "outputs": [],
   "source": [
    "def n_meses_primeiro_produto_credito(df):\n",
    "    df = df.copy()\n",
    "    df['earliest_cr_line'] = pd.to_datetime(df['earliest_cr_line'], format = '%b-%y')\n",
    "    df['mths_since_earliest_cr_line'] = round(pd.to_numeric((pd.to_datetime('2023-09-20') - df['earliest_cr_line'])/np.timedelta64(1, 'M')))\n",
    "    df['mths_since_earliest_cr_line'] = df['mths_since_earliest_cr_line'].fillna(df['mths_since_earliest_cr_line'].median())\n",
    "    df['mths_since_earliest_cr_line'] = np.where(df['mths_since_earliest_cr_line'] < 0, df['mths_since_earliest_cr_line'].median(), df['mths_since_earliest_cr_line'])\n",
    "    df['mths_since_earliest_cr_line'] = df['mths_since_earliest_cr_line'].apply(lambda x:int(x))\n",
    "    df['earliest_cr_line'] = df['mths_since_earliest_cr_line']\n",
    "    \n",
    "    return df['earliest_cr_line']\n",
    "\n",
    "df_train['earliest_cr_line'] = n_meses_primeiro_produto_credito(df_train)"
   ]
  },
  {
   "cell_type": "markdown",
   "metadata": {},
   "source": [
    "# <font color='green' style='font-size: 30px;'> 2.8) Formato das Features Binárias </font>\n",
    "<hr style='border: 2px solid green;'>"
   ]
  },
  {
   "cell_type": "code",
   "execution_count": 13,
   "metadata": {},
   "outputs": [],
   "source": [
    "def formato_features_binarias(df):\n",
    "    df['term'] = np.where(df['term'] == ' 36 months', 0, 1)\n",
    "    df['delinq_2yrs'] = np.where(df['delinq_2yrs'] == 'sem_inadimplencia_vencida', 0, 1)\n",
    "    df['initial_list_status'] = np.where(df['initial_list_status'] == 'f', 0, 1)\n",
    "    df['pymnt_plan'] = np.where(df['pymnt_plan'] == 'n', 0, 1)\n",
    "    df['verification_status'] = np.where(df['verification_status'] == 'Source Verified', 0, 1)\n",
    "    df['inq_last_6mths'] = np.where(df['inq_last_6mths'] == 'com_consultas', 0, 1)\n",
    "\n",
    "    return df\n",
    "\n",
    "df_train = formato_features_binarias(df_train)"
   ]
  },
  {
   "cell_type": "markdown",
   "metadata": {},
   "source": [
    "# <font color='green' style='font-size: 30px;'> 2.9) Features Estatísticas</font>\n",
    "<hr style='border: 2px solid green;'>"
   ]
  },
  {
   "cell_type": "code",
   "execution_count": 14,
   "metadata": {},
   "outputs": [],
   "source": [
    "def taxa_de_bad_por_categoria(df):\n",
    "    categoricas = ['term', 'grade', 'sub_grade', 'purpose', 'delinq_2yrs', 'policy_code', 'initial_list_status', 'pymnt_plan', 'emp_length', 'home_ownership', 'verification_status', 'addr_state', 'pub_rec', 'inq_last_6mths']\n",
    "    df_aux_2 = df.copy()\n",
    "    for cat in categoricas:\n",
    "        df_aux = df[[f'{cat}', 'loan_status']].copy()\n",
    "        good = pd.DataFrame(df_aux.loc[df_aux['loan_status'] == 0].groupby(f'{cat}', as_index = False)['loan_status'].count()).rename({'loan_status':'qt_good'}, axis = 1)\n",
    "        bad = pd.DataFrame(df_aux.loc[df_aux['loan_status'] == 1].groupby(f'{cat}', as_index = False)['loan_status'].count()).rename({'loan_status':'qt_bad'}, axis = 1)\n",
    "        df_aux = good.merge(bad, on = f'{cat}', how = 'left')\n",
    "        df_aux['qt_total'] = df_aux['qt_good'] + df_aux['qt_bad']\n",
    "        df_aux[f'bad_rate_{cat}'] = ((df_aux['qt_bad']/df_aux['qt_total'])*100).round(2)\n",
    "        df_aux[f'bad_rate_{cat}'] = df_aux[f'bad_rate_{cat}'].apply(lambda x:float(x))\n",
    "        df_aux_2 = df_aux_2.merge(df_aux[[f'{cat}', f'bad_rate_{cat}']], on = f'{cat}', how = 'left')\n",
    "\n",
    "    return df_aux_2\n",
    "\n",
    "df_train = taxa_de_bad_por_categoria(df_train)"
   ]
  },
  {
   "cell_type": "code",
   "execution_count": 79,
   "metadata": {},
   "outputs": [],
   "source": [
    "def media_categoria_variavel_quantitativa(df):\n",
    "    df_aux_2 = df.copy()\n",
    "    categoricas = ['term', 'grade', 'sub_grade', 'purpose', 'delinq_2yrs', 'policy_code', 'initial_list_status', 'pymnt_plan', 'emp_length', 'home_ownership', 'verification_status', 'addr_state', 'pub_rec', 'inq_last_6mths']\n",
    "    quantitativas = ['loan_amnt', 'int_rate', 'annual_inc', 'annual_income_commitment_rate', 'tot_cur_bal', 'total_rev_hi_lim', 'revol_util', 'open_acc', 'total_acc']\n",
    "    for cat in categoricas:\n",
    "        for quant in quantitativas:\n",
    "            df_aux = df[[f'{cat}', f'{quant}']].copy()\n",
    "            df_aux = pd.DataFrame(df_aux.groupby(f'{cat}', as_index = False)[f'{quant}'].mean()).rename({f'{quant}':f'{cat}_{quant}_mean'}, axis = 1)\n",
    "            df_aux[f'{cat}_{quant}_mean'] = df_aux[f'{cat}_{quant}_mean'].apply(lambda x:float(x))\n",
    "            df_aux_2 = df_aux_2.merge(df_aux[[f'{cat}', f'{cat}_{quant}_mean']], on = f'{cat}', how = 'left')\n",
    "\n",
    "    return df_aux_2\n",
    "\n",
    "df_train = media_categoria_variavel_quantitativa(df_train)\n",
    "df_train.drop('addr_state', axis = 1, inplace = True)\n"
   ]
  },
  {
   "cell_type": "markdown",
   "metadata": {},
   "source": [
    "# <font color='red' style='font-size: 40px;'> 3. Feature Selection </font>\n",
    "<hr style='border: 2px solid red;'>"
   ]
  },
  {
   "cell_type": "markdown",
   "metadata": {},
   "source": [
    "# <font color='green' style='font-size: 30px;'> 3.1) Verificação de Variáveis Nulas ou Irrelevantes </font>\n",
    "<hr style='border: 2px solid green;'>\n",
    "\n",
    "> 1. Excluiu-se as variáveis que possuem 100% dos registros nulos\n",
    "\n",
    "> 2. Excluiu-se também as variáveis que falam a respeito de questões de Pagamento, pois esse fenômeno é após a concessão do crédito e, como um modelo de PD serve para decidir quem pode ou não receber tal concessão, seria errado incluir variáveis de pagamento nas análises ou na modelagem\n"
   ]
  },
  {
   "cell_type": "code",
   "execution_count": 16,
   "metadata": {},
   "outputs": [
    {
     "name": "stdout",
     "output_type": "stream",
     "text": [
      "Existem 170 variáveis no Dataset\n",
      "Existem 154 variáveis sem registros nulos no Dataset\n"
     ]
    }
   ],
   "source": [
    "df_nulls = pd.DataFrame(df_train.isnull().sum()).reset_index().rename({0:'nulls_amnt'}, axis = 1)\n",
    "df_nulls['nulls_rate'] = df_nulls['nulls_amnt']/df_train.shape[0]\n",
    "print(f'Existem {len(df_nulls)} variáveis no Dataset')\n",
    "df_not_nulls_nulls = df_nulls.loc[df_nulls['nulls_rate'] == 0]\n",
    "columns_not_nulls = list(df_not_nulls_nulls['index'])\n",
    "print(f'Existem {len(columns_not_nulls)} variáveis sem registros nulos no Dataset')\n"
   ]
  },
  {
   "cell_type": "markdown",
   "metadata": {},
   "source": [
    "# <font color='green' style='font-size: 30px;'> 3.2) Verificação de Variáveis Categóricas e Numéricas </font>\n",
    "<hr style='border: 2px solid green;'>\n",
    "\n",
    "> 1. Para facilitar a Análise Exploratória, segmentou-se as variáveis em Qualitativas e Quantitativas.\n",
    "\n",
    "> 2. Definiu-se essas classificações a fim de aplicar técnicas estatatísticas corretas para analisá-las\n",
    "\n",
    "> 3. Essa abordagem é importante pois cada tipo de variável tem um jeito de ser avaliada. "
   ]
  },
  {
   "cell_type": "code",
   "execution_count": 18,
   "metadata": {},
   "outputs": [
    {
     "data": {
      "image/png": "[encoded data removed]",
      "text/plain": [
       "<Figure size 1000x500 with 1 Axes>"
      ]
     },
     "metadata": {},
     "output_type": "display_data"
    }
   ],
   "source": [
    "variaveis = verifica_tipo_variavel(df_train)\n",
    "plota_barras(['tipo'], False, variaveis, 1, 1, 'Distribuição do Tipo de Variável presente no Dataset', 0)"
   ]
  },
  {
   "cell_type": "markdown",
   "metadata": {},
   "source": [
    "# <font color='green' style='font-size: 30px;'> 3.3) Aplicações de Imputer e Encoder </font>\n",
    "<hr style='border: 2px solid green;'>\n",
    "\n",
    "> 1. Para realizar o Feature Selection, é importante termos as variáveis categóricas previamente tratadas com Encoder\n",
    "\n",
    "> 2. Além disso, é de suma importância não termos dados nulos"
   ]
  },
  {
   "cell_type": "code",
   "execution_count": 19,
   "metadata": {},
   "outputs": [],
   "source": [
    "def binary_encoder(df):\n",
    "    categoricas = ['grade', 'sub_grade', 'purpose', 'policy_code', 'emp_length', 'home_ownership', 'pub_rec']\n",
    "\n",
    "    encoder = BinaryEncoder(cols=categoricas)\n",
    "    encoder.fit(df)\n",
    "\n",
    "    return encoder\n",
    "\n",
    "df_aux = df_train.copy()\n",
    "encoder = binary_encoder(df_aux)\n",
    "df_aux_encoded = encoder.transform(df_aux)\n",
    "    "
   ]
  },
  {
   "cell_type": "code",
   "execution_count": 49,
   "metadata": {},
   "outputs": [],
   "source": [
    "def simple_imputer(df):\n",
    "\n",
    "    df_aux = df.copy()\n",
    "    imputer = SimpleImputer(strategy = 'median')\n",
    "    imputer.fit(df_aux)\n",
    "\n",
    "    return imputer"
   ]
  },
  {
   "cell_type": "code",
   "execution_count": 52,
   "metadata": {},
   "outputs": [],
   "source": [
    "df_aux = df_aux_encoded.copy()\n",
    "imputer = simple_imputer(df_aux)\n",
    "df_aux_imputed = pd.DataFrame(imputer.transform(df_aux), columns = df_aux_encoded.columns)"
   ]
  },
  {
   "cell_type": "markdown",
   "metadata": {},
   "source": [
    "# <font color='green' style='font-size: 30px;'> 3.4) Variance Threshold </font>\n",
    "<hr style='border: 2px solid green;'>\n",
    "\n",
    "> 1. Aplicou-se um Corte de Variância nas variáveis para eliminar aquelas as quais eram praticamente constantes"
   ]
  },
  {
   "cell_type": "code",
   "execution_count": 61,
   "metadata": {},
   "outputs": [
    {
     "name": "stdout",
     "output_type": "stream",
     "text": [
      "(373028, 109)\n"
     ]
    }
   ],
   "source": [
    "df_aux = df_aux_imputed[remove_features_baixa_variancia('loan_status', df_aux_imputed, 0.1)]\n",
    "print(df_aux.shape)"
   ]
  },
  {
   "cell_type": "markdown",
   "metadata": {},
   "source": [
    "# <font color='green' style='font-size: 30px;'> 3.5) Mutual Information </font>\n",
    "<hr style='border: 2px solid green;'>\n",
    "\n",
    "> 1. Posteriormente, viu-se o ganho de informação a partir do cálculo de Informação Mútua"
   ]
  },
  {
   "cell_type": "code",
   "execution_count": 63,
   "metadata": {},
   "outputs": [
    {
     "name": "stdout",
     "output_type": "stream",
     "text": [
      "(373028, 109)\n"
     ]
    }
   ],
   "source": [
    "df_aux = df_aux[remove_features_mutual_information('loan_status', df_aux, 0)[1]]\n",
    "print(df_aux.shape)"
   ]
  },
  {
   "cell_type": "markdown",
   "metadata": {},
   "source": [
    "# <font color='green' style='font-size: 30px;'> 3.6) Feature Importance </font>\n",
    "<hr style='border: 2px solid green;'>\n",
    "\n",
    "> 1. Finalmente, as variáveis restantes foram definidas pela Importância da Feature através de um Random Forest, o qual mostra quais variáveis são mais importantes para que o modelo acerte corretamente a Target "
   ]
  },
  {
   "cell_type": "code",
   "execution_count": 64,
   "metadata": {},
   "outputs": [
    {
     "name": "stdout",
     "output_type": "stream",
     "text": [
      "(373028, 26)\n"
     ]
    }
   ],
   "source": [
    "df_aux = df_aux[remove_features_feature_importance('loan_status', df_aux, 10, 0.01)]\n",
    "print(df_aux.shape)"
   ]
  },
  {
   "cell_type": "markdown",
   "metadata": {},
   "source": [
    "# <font color='green' style='font-size: 30px;'> 3.7) Features Selecionadas </font>\n",
    "<hr style='border: 2px solid green;'>\n",
    "\n",
    "> 1. 26 Features foram selecionadas para entrarem neste modelo "
   ]
  },
  {
   "cell_type": "code",
   "execution_count": 73,
   "metadata": {},
   "outputs": [
    {
     "data": {
      "text/plain": [
       "['mths_since_last_major_derog',\n",
       " 'mths_since_last_delinq',\n",
       " 'int_rate',\n",
       " 'sub_grade_int_rate_mean',\n",
       " 'annual_income_commitment_rate',\n",
       " 'sub_grade_annual_income_commitment_rate_mean',\n",
       " 'installment',\n",
       " 'issue_d',\n",
       " 'open_acc',\n",
       " 'addr_state_total_acc_mean',\n",
       " 'addr_state_revol_util_mean',\n",
       " 'loan_amnt',\n",
       " 'bad_rate_addr_state',\n",
       " 'addr_state_tot_cur_bal_mean',\n",
       " 'addr_state_annual_income_commitment_rate_mean',\n",
       " 'addr_state_annual_inc_mean',\n",
       " 'tot_cur_bal',\n",
       " 'total_rev_hi_lim',\n",
       " 'addr_state_loan_amnt_mean',\n",
       " 'addr_state_total_rev_hi_lim_mean',\n",
       " 'annual_inc',\n",
       " 'revol_util',\n",
       " 'total_acc',\n",
       " 'earliest_cr_line',\n",
       " 'revol_bal',\n",
       " 'loan_status']"
      ]
     },
     "execution_count": 73,
     "metadata": {},
     "output_type": "execute_result"
    }
   ],
   "source": [
    "features_selected = list(df_aux.columns)\n",
    "features_selected"
   ]
  },
  {
   "cell_type": "markdown",
   "metadata": {},
   "source": [
    "# <font color='red' style='font-size: 40px;'> 4. Modelagem Inicial  </font>\n",
    "<hr style='border: 2px solid red;'>"
   ]
  },
  {
   "cell_type": "markdown",
   "metadata": {},
   "source": [
    "# <font color='green' style='font-size: 30px;'> 4.1) Redefindo os Dataframes de Treino e Teste </font>\n",
    "<hr style='border: 2px solid green;'>\n"
   ]
  },
  {
   "cell_type": "code",
   "execution_count": 78,
   "metadata": {},
   "outputs": [],
   "source": [
    "df_train = separa_treino_teste('loan_status', df, 0.20)[0]\n",
    "df_test = separa_treino_teste('loan_status', df, 0.20)[1]\n",
    "\n",
    "columns_selected = ['loan_status','term','grade','sub_grade','purpose', 'delinq_2yrs', 'loan_amnt','int_rate','issue_d','policy_code','pymnt_plan','initial_list_status','installment','emp_length','home_ownership',\n",
    "'verification_status','annual_inc','addr_state', 'tot_cur_bal','total_rev_hi_lim','revol_bal','revol_util','open_acc','total_acc','pub_rec','inq_last_6mths','earliest_cr_line','mths_since_last_record', 'mths_since_last_major_derog',\n",
    "'mths_since_last_delinq']\n",
    "\n",
    "df_train = df_train[columns_selected]\n",
    "df_test = df_test[columns_selected]"
   ]
  },
  {
   "cell_type": "code",
   "execution_count": null,
   "metadata": {},
   "outputs": [],
   "source": [
    "df_train_raw = separa_treino_teste('loan_status', df, 0.20)[0]\n",
    "df_test_raw = separa_treino_teste('loan_status', df, 0.20)[1]\n",
    "\n",
    "columns_selected = ['loan_status','term','grade','sub_grade','purpose', 'delinq_2yrs', 'loan_amnt','int_rate','issue_d','policy_code','pymnt_plan','initial_list_status','installment','emp_length','home_ownership',\n",
    "'verification_status','annual_inc','addr_state', 'tot_cur_bal','total_rev_hi_lim','revol_bal','revol_util','open_acc','total_acc','pub_rec','inq_last_6mths','earliest_cr_line','mths_since_last_record', 'mths_since_last_major_derog',\n",
    "'mths_since_last_delinq']\n",
    "\n",
    "df_train_silver = df_train[columns_selected]\n",
    "df_test_silver= df_test[columns_selected]\n",
    "\n",
    "df_train['emp_length'] = numero_de_anos_emprego_atual(df_train)\n",
    "df_train['pub_rec'] = numero_de_registros_negativos(df_train)\n",
    "df_train['inq_last_6mths'] = consulta_de_credito_nos_ultimos_6_meses(df_train)\n",
    "df_train['annual_income_commitment_rate'] = compromento_de_renda(df_train)\n",
    "df_train['delinq_2yrs'] = numero_incidencias_inadimplencia_vencidas_30d(df_train)\n",
    "df_train['issue_d'] = n_meses_produto_credito_atual(df_train)\n",
    "df_train['earliest_cr_line'] = n_meses_primeiro_produto_credito(df_train)\n",
    "df_train = formato_features_binarias(df_train)\n",
    "df_train = taxa_de_bad_por_categoria(df_train)\n",
    "df_train = media_categoria_variavel_quantitativa(df_train)\n",
    "\n",
    "\n",
    "df_test['emp_length'] = numero_de_anos_emprego_atual(df_test)\n",
    "df_test['pub_rec'] = numero_de_registros_negativos(df_test)\n",
    "df_test['inq_last_6mths'] = consulta_de_credito_nos_ultimos_6_meses(df_test)\n",
    "df_test['annual_income_commitment_rate'] = compromento_de_renda(df_test)\n",
    "df_test['delinq_2yrs'] = numero_incidencias_inadimplencia_vencidas_30d(df_test)\n",
    "df_test['issue_d'] = n_meses_produto_credito_atual(df_test)\n",
    "df_test['earliest_cr_line'] = n_meses_primeiro_produto_credito(df_test)\n",
    "df_test = formato_features_binarias(df_test)\n",
    "df_test = taxa_de_bad_por_categoria(df_train_silver)\n",
    "df_test = media_categoria_variavel_quantitativa(df_train_silver)\n",
    "\n",
    "\n",
    "df_train = df_train[features_selected]\n",
    "df_test = df_test[features_selected]\n",
    "\n",
    "print(f'Quantidade de Dados Utilizados para Treinamento: {df_train.shape[0]}')\n",
    "print(f'Quantidade de Dados Utilizados para Teste: {df_test.shape[0]}')"
   ]
  },
  {
   "cell_type": "code",
   "execution_count": null,
   "metadata": {},
   "outputs": [],
   "source": [
    "df_aux_2.merge(df_aux[[f'{cat}', f'bad_rate_{cat}']], on = f'{cat}', how = 'left')\n",
    "df_aux_2 = df_aux_2.merge(df_aux[[f'{cat}', f'{cat}_{quant}_mean']], on = f'{cat}', how = 'left')"
   ]
  },
  {
   "cell_type": "code",
   "execution_count": null,
   "metadata": {},
   "outputs": [],
   "source": [
    "x_train = separa_feature_target('TARGET', df_train)[0]\n",
    "y_train = separa_feature_target('TARGET', df_train)[1]\n",
    "\n",
    "x_test = separa_feature_target('TARGET', df_test)[0]\n",
    "y_test = separa_feature_target('TARGET', df_test)[1]\n",
    "\n",
    "print(x_train.shape)\n",
    "print(y_train.shape)\n",
    "\n",
    "print(x_test.shape)\n",
    "print(y_test.shape)"
   ]
  },
  {
   "cell_type": "markdown",
   "metadata": {},
   "source": [
    "# <font color='green' style='font-size: 30px;'> 4.2) Motor de Modelos </font>\n",
    "<hr style='border: 2px solid green;'>\n"
   ]
  },
  {
   "cell_type": "code",
   "execution_count": null,
   "metadata": {},
   "outputs": [],
   "source": [
    "class_weight = 10\n",
    "\n",
    "# Regressão Logística\n",
    "y_predict_train_reg_logistic = Classificador('Regressão Logística', x_train, y_train, x_valid, y_valid, class_weight)[1]\n",
    "y_predict_valid_reg_logistic = Classificador('Regressão Logística', x_train, y_train, x_valid, y_valid, class_weight)[2]"
   ]
  },
  {
   "cell_type": "code",
   "execution_count": null,
   "metadata": {},
   "outputs": [],
   "source": []
  },
  {
   "attachments": {},
   "cell_type": "markdown",
   "metadata": {},
   "source": [
    "# <font color='red' style='font-size: 40px;'> 5. Otimização do Modelo Escolhido </font>\n",
    "<hr style='border: 2px solid red;'>"
   ]
  },
  {
   "cell_type": "code",
   "execution_count": null,
   "metadata": {},
   "outputs": [],
   "source": []
  },
  {
   "cell_type": "code",
   "execution_count": null,
   "metadata": {},
   "outputs": [],
   "source": []
  },
  {
   "cell_type": "markdown",
   "metadata": {},
   "source": [
    "# <font color='red' style='font-size: 40px;'> 6. Criação da Política de Crédito para Baseline</font>\n",
    "<hr style='border: 2px solid red;'>"
   ]
  },
  {
   "cell_type": "code",
   "execution_count": null,
   "metadata": {},
   "outputs": [],
   "source": []
  },
  {
   "cell_type": "code",
   "execution_count": null,
   "metadata": {},
   "outputs": [],
   "source": []
  },
  {
   "cell_type": "markdown",
   "metadata": {},
   "source": [
    "# <font color='red' style='font-size: 40px;'> 7. Tradução e Quantificação dos Resultados</font>\n",
    "<hr style='border: 2px solid red;'>"
   ]
  },
  {
   "cell_type": "code",
   "execution_count": null,
   "metadata": {},
   "outputs": [],
   "source": []
  },
  {
   "cell_type": "code",
   "execution_count": null,
   "metadata": {},
   "outputs": [],
   "source": []
  }
 ],
 "metadata": {
  "kernelspec": {
   "display_name": "base",
   "language": "python",
   "name": "python3"
  },
  "language_info": {
   "codemirror_mode": {
    "name": "ipython",
    "version": 3
   },
   "file_extension": ".py",
   "mimetype": "text/x-python",
   "name": "python",
   "nbconvert_exporter": "python",
   "pygments_lexer": "ipython3",
   "version": "3.9.16"
  },
  "orig_nbformat": 4,
  "vscode": {
   "interpreter": {
    "hash": "5a9a036f549c34521959f2e35c11282d59c2fa6997060d671aa6f29f1c44b680"
   }
  }
 },
 "nbformat": 4,
 "nbformat_minor": 2
}
